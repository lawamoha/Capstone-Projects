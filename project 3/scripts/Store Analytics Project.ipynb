{
 "cells": [
  {
   "cell_type": "code",
   "execution_count": 0,
   "metadata": {
    "application/vnd.databricks.v1+cell": {
     "cellMetadata": {
      "byteLimit": 2048000,
      "rowLimit": 10000
     },
     "inputWidgets": {},
     "nuid": "76d0972a-9ddb-470b-97fd-bc548a6489db",
     "showTitle": false,
     "tableResultSettingsMap": {},
     "title": ""
    }
   },
   "outputs": [
    {
     "output_type": "execute_result",
     "data": {
      "text/plain": [
       "True"
      ]
     },
     "execution_count": 61,
     "metadata": {},
     "output_type": "execute_result"
    }
   ],
   "source": [
    "\n",
    "configs = {\"fs.azure.account.auth.type\": \"OAuth\",\n",
    "       \"fs.azure.account.oauth.provider.type\": \"org.apache.hadoop.fs.azurebfs.oauth2.ClientCredsTokenProvider\",\n",
    "       \"fs.azure.account.oauth2.client.id\": \"a561332d-9220-41c5-a11c-adb26c4769cb\",\n",
    "       \"fs.azure.account.oauth2.client.secret\": dbutils.secrets.get(scope=\"newscope\", key=\"databricks\"),\n",
    "       \"fs.azure.account.oauth2.client.endpoint\": \"https://login.microsoftonline.com/48938d68-3de7-4982-a1e9-bf5bf14c510e/oauth2/token\",\n",
    "       \"fs.azure.createRemoteFileSystemDuringInitialization\": \"true\"}\n",
    "\n",
    "dbutils.fs.mount(\n",
    "source = \"abfss://storeanalytics@mynewstorageacctdb.dfs.core.windows.net/bronze\",\n",
    "mount_point = \"/mnt/store_project/bronze\",\n",
    "extra_configs = configs)\n"
   ]
  },
  {
   "cell_type": "code",
   "execution_count": 0,
   "metadata": {
    "application/vnd.databricks.v1+cell": {
     "cellMetadata": {
      "byteLimit": 2048000,
      "rowLimit": 10000
     },
     "inputWidgets": {},
     "nuid": "dae778eb-cb4f-4fc5-a047-468a22e1973d",
     "showTitle": false,
     "tableResultSettingsMap": {},
     "title": ""
    }
   },
   "outputs": [
    {
     "output_type": "display_data",
     "data": {
      "text/html": [
       "<style scoped>\n",
       "  .table-result-container {\n",
       "    max-height: 300px;\n",
       "    overflow: auto;\n",
       "  }\n",
       "  table, th, td {\n",
       "    border: 1px solid black;\n",
       "    border-collapse: collapse;\n",
       "  }\n",
       "  th, td {\n",
       "    padding: 5px;\n",
       "  }\n",
       "  th {\n",
       "    text-align: left;\n",
       "  }\n",
       "</style><div class='table-result-container'><table class='table-result'><thead style='background-color: white'><tr><th>customer_id</th><th>first_name</th><th>last_name</th><th>email</th><th>phone</th><th>city</th><th>registration_date</th></tr></thead><tbody><tr><td>101</td><td>Ravi</td><td>Yadav</td><td>user101@example.com</td><td>9887654321</td><td>Delhi</td><td>2023-09-14</td></tr><tr><td>102</td><td>Nina</td><td>Joshi</td><td>user102@example.com</td><td>9876543210</td><td>Mumbai</td><td>2024-01-21</td></tr><tr><td>103</td><td>Sonal</td><td>Sharma</td><td>user103@example.com</td><td>9865432109</td><td>Bangalore</td><td>2023-07-10</td></tr><tr><td>104</td><td>Karan</td><td>Patel</td><td>user104@example.com</td><td>9854321098</td><td>Hyderabad</td><td>2024-02-05</td></tr><tr><td>105</td><td>Riya</td><td>Singh</td><td>user105@example.com</td><td>9843210987</td><td>Chennai</td><td>2023-06-28</td></tr><tr><td>106</td><td>Ajay</td><td>Mishra</td><td>user106@example.com</td><td>9832109876</td><td>Pune</td><td>2024-03-10</td></tr><tr><td>107</td><td>Priya</td><td>Kapoor</td><td>user107@example.com</td><td>9821098765</td><td>Ahmedabad</td><td>2023-05-12</td></tr><tr><td>108</td><td>Rahul</td><td>Verma</td><td>user108@example.com</td><td>9810987654</td><td>Kolkata</td><td>2023-08-19</td></tr><tr><td>109</td><td>Pooja</td><td>Mehta</td><td>user109@example.com</td><td>9809876543</td><td>Delhi</td><td>2024-04-01</td></tr><tr><td>110</td><td>Deepak</td><td>Nair</td><td>user110@example.com</td><td>9798765432</td><td>Mumbai</td><td>2023-10-14</td></tr><tr><td>111</td><td>Sneha</td><td>Joshi</td><td>user111@example.com</td><td>9787654321</td><td>Bangalore</td><td>2024-01-01</td></tr><tr><td>112</td><td>Manoj</td><td>Sharma</td><td>user112@example.com</td><td>9776543210</td><td>Hyderabad</td><td>2023-09-30</td></tr><tr><td>113</td><td>Divya</td><td>Singh</td><td>user113@example.com</td><td>9765432109</td><td>Chennai</td><td>2024-02-18</td></tr><tr><td>114</td><td>Suresh</td><td>Patel</td><td>user114@example.com</td><td>9754321098</td><td>Pune</td><td>2023-11-25</td></tr><tr><td>115</td><td>Anita</td><td>Yadav</td><td>user115@example.com</td><td>9743210987</td><td>Ahmedabad</td><td>2023-07-05</td></tr><tr><td>116</td><td>Rakesh</td><td>Kapoor</td><td>user116@example.com</td><td>9732109876</td><td>Kolkata</td><td>2023-06-15</td></tr><tr><td>117</td><td>Neha</td><td>Verma</td><td>user117@example.com</td><td>9721098765</td><td>Delhi</td><td>2024-03-01</td></tr><tr><td>118</td><td>Vikram</td><td>Mehta</td><td>user118@example.com</td><td>9710987654</td><td>Mumbai</td><td>2023-04-22</td></tr><tr><td>119</td><td>Kunal</td><td>Nair</td><td>user119@example.com</td><td>9709876543</td><td>Bangalore</td><td>2023-08-10</td></tr><tr><td>120</td><td>Alka</td><td>Mishra</td><td>user120@example.com</td><td>9698765432</td><td>Hyderabad</td><td>2023-12-01</td></tr><tr><td>121</td><td>Sanjay</td><td>Patel</td><td>user121@example.com</td><td>9687654321</td><td>Chennai</td><td>2024-01-10</td></tr><tr><td>122</td><td>Tina</td><td>Kapoor</td><td>user122@example.com</td><td>9676543210</td><td>Pune</td><td>2023-09-20</td></tr><tr><td>123</td><td>Arjun</td><td>Yadav</td><td>user123@example.com</td><td>9665432109</td><td>Ahmedabad</td><td>2024-02-25</td></tr><tr><td>124</td><td>Kavita</td><td>Sharma</td><td>user124@example.com</td><td>9654321098</td><td>Kolkata</td><td>2023-11-15</td></tr><tr><td>125</td><td>Tarun</td><td>Verma</td><td>user125@example.com</td><td>9643210987</td><td>Delhi</td><td>2024-04-05</td></tr><tr><td>126</td><td>Bhavna</td><td>Nair</td><td>user126@example.com</td><td>9632109876</td><td>Mumbai</td><td>2023-07-17</td></tr><tr><td>127</td><td>Rohit</td><td>Mehta</td><td>user127@example.com</td><td>9621098765</td><td>Bangalore</td><td>2023-08-30</td></tr><tr><td>128</td><td>Simran</td><td>Joshi</td><td>user128@example.com</td><td>9610987654</td><td>Hyderabad</td><td>2023-06-11</td></tr><tr><td>129</td><td>Vivek</td><td>Singh</td><td>user129@example.com</td><td>9609876543</td><td>Chennai</td><td>2024-02-12</td></tr><tr><td>130</td><td>Tanvi</td><td>Kapoor</td><td>user130@example.com</td><td>9598765432</td><td>Pune</td><td>2023-12-22</td></tr><tr><td>131</td><td>Gaurav</td><td>Patel</td><td>user131@example.com</td><td>9587654321</td><td>Ahmedabad</td><td>2023-10-05</td></tr><tr><td>132</td><td>Reena</td><td>Sharma</td><td>user132@example.com</td><td>9576543210</td><td>Kolkata</td><td>2024-03-20</td></tr><tr><td>133</td><td>Ishaan</td><td>Verma</td><td>user133@example.com</td><td>9565432109</td><td>Delhi</td><td>2023-07-03</td></tr><tr><td>134</td><td>Jaya</td><td>Yadav</td><td>user134@example.com</td><td>9554321098</td><td>Mumbai</td><td>2023-08-08</td></tr><tr><td>135</td><td>Sakshi</td><td>Mishra</td><td>user135@example.com</td><td>9543210987</td><td>Bangalore</td><td>2023-06-29</td></tr><tr><td>136</td><td>Nilesh</td><td>Kapoor</td><td>user136@example.com</td><td>9532109876</td><td>Hyderabad</td><td>2024-01-30</td></tr><tr><td>137</td><td>Shweta</td><td>Mehta</td><td>user137@example.com</td><td>9521098765</td><td>Chennai</td><td>2023-05-06</td></tr><tr><td>138</td><td>Yash</td><td>Singh</td><td>user138@example.com</td><td>9510987654</td><td>Pune</td><td>2023-10-18</td></tr><tr><td>139</td><td>Harsha</td><td>Patel</td><td>user139@example.com</td><td>9509876543</td><td>Ahmedabad</td><td>2024-03-08</td></tr><tr><td>140</td><td>Vipin</td><td>Joshi</td><td>user140@example.com</td><td>9498765432</td><td>Kolkata</td><td>2023-09-07</td></tr><tr><td>141</td><td>Rachna</td><td>Nair</td><td>user141@example.com</td><td>9487654321</td><td>Delhi</td><td>2024-02-27</td></tr><tr><td>142</td><td>Lokesh</td><td>Mishra</td><td>user142@example.com</td><td>9476543210</td><td>Mumbai</td><td>2023-04-25</td></tr><tr><td>143</td><td>Payal</td><td>Sharma</td><td>user143@example.com</td><td>9465432109</td><td>Bangalore</td><td>2023-08-16</td></tr><tr><td>144</td><td>Abhay</td><td>Yadav</td><td>user144@example.com</td><td>9454321098</td><td>Hyderabad</td><td>2024-01-06</td></tr><tr><td>145</td><td>Ritu</td><td>Kapoor</td><td>user145@example.com</td><td>9443210987</td><td>Chennai</td><td>2023-11-09</td></tr><tr><td>146</td><td>Dev</td><td>Mehta</td><td>user146@example.com</td><td>9432109876</td><td>Pune</td><td>2023-07-27</td></tr><tr><td>147</td><td>Shikha</td><td>Singh</td><td>user147@example.com</td><td>9421098765</td><td>Ahmedabad</td><td>2023-10-12</td></tr><tr><td>148</td><td>Mahesh</td><td>Patel</td><td>user148@example.com</td><td>9410987654</td><td>Kolkata</td><td>2024-02-15</td></tr><tr><td>149</td><td>Tanya</td><td>Verma</td><td>user149@example.com</td><td>9409876543</td><td>Delhi</td><td>2023-06-20</td></tr><tr><td>150</td><td>Aman</td><td>Joshi</td><td>user150@example.com</td><td>9398765432</td><td>Mumbai</td><td>2023-05-31</td></tr></tbody></table></div>"
      ]
     },
     "metadata": {
      "application/vnd.databricks.v1+output": {
       "addedWidgets": {},
       "aggData": [],
       "aggError": "",
       "aggOverflow": false,
       "aggSchema": [],
       "aggSeriesLimitReached": false,
       "aggType": "",
       "arguments": {},
       "columnCustomDisplayInfos": {},
       "data": [
        [
         101,
         "Ravi",
         "Yadav",
         "user101@example.com",
         "9887654321",
         "Delhi",
         "2023-09-14"
        ],
        [
         102,
         "Nina",
         "Joshi",
         "user102@example.com",
         "9876543210",
         "Mumbai",
         "2024-01-21"
        ],
        [
         103,
         "Sonal",
         "Sharma",
         "user103@example.com",
         "9865432109",
         "Bangalore",
         "2023-07-10"
        ],
        [
         104,
         "Karan",
         "Patel",
         "user104@example.com",
         "9854321098",
         "Hyderabad",
         "2024-02-05"
        ],
        [
         105,
         "Riya",
         "Singh",
         "user105@example.com",
         "9843210987",
         "Chennai",
         "2023-06-28"
        ],
        [
         106,
         "Ajay",
         "Mishra",
         "user106@example.com",
         "9832109876",
         "Pune",
         "2024-03-10"
        ],
        [
         107,
         "Priya",
         "Kapoor",
         "user107@example.com",
         "9821098765",
         "Ahmedabad",
         "2023-05-12"
        ],
        [
         108,
         "Rahul",
         "Verma",
         "user108@example.com",
         "9810987654",
         "Kolkata",
         "2023-08-19"
        ],
        [
         109,
         "Pooja",
         "Mehta",
         "user109@example.com",
         "9809876543",
         "Delhi",
         "2024-04-01"
        ],
        [
         110,
         "Deepak",
         "Nair",
         "user110@example.com",
         "9798765432",
         "Mumbai",
         "2023-10-14"
        ],
        [
         111,
         "Sneha",
         "Joshi",
         "user111@example.com",
         "9787654321",
         "Bangalore",
         "2024-01-01"
        ],
        [
         112,
         "Manoj",
         "Sharma",
         "user112@example.com",
         "9776543210",
         "Hyderabad",
         "2023-09-30"
        ],
        [
         113,
         "Divya",
         "Singh",
         "user113@example.com",
         "9765432109",
         "Chennai",
         "2024-02-18"
        ],
        [
         114,
         "Suresh",
         "Patel",
         "user114@example.com",
         "9754321098",
         "Pune",
         "2023-11-25"
        ],
        [
         115,
         "Anita",
         "Yadav",
         "user115@example.com",
         "9743210987",
         "Ahmedabad",
         "2023-07-05"
        ],
        [
         116,
         "Rakesh",
         "Kapoor",
         "user116@example.com",
         "9732109876",
         "Kolkata",
         "2023-06-15"
        ],
        [
         117,
         "Neha",
         "Verma",
         "user117@example.com",
         "9721098765",
         "Delhi",
         "2024-03-01"
        ],
        [
         118,
         "Vikram",
         "Mehta",
         "user118@example.com",
         "9710987654",
         "Mumbai",
         "2023-04-22"
        ],
        [
         119,
         "Kunal",
         "Nair",
         "user119@example.com",
         "9709876543",
         "Bangalore",
         "2023-08-10"
        ],
        [
         120,
         "Alka",
         "Mishra",
         "user120@example.com",
         "9698765432",
         "Hyderabad",
         "2023-12-01"
        ],
        [
         121,
         "Sanjay",
         "Patel",
         "user121@example.com",
         "9687654321",
         "Chennai",
         "2024-01-10"
        ],
        [
         122,
         "Tina",
         "Kapoor",
         "user122@example.com",
         "9676543210",
         "Pune",
         "2023-09-20"
        ],
        [
         123,
         "Arjun",
         "Yadav",
         "user123@example.com",
         "9665432109",
         "Ahmedabad",
         "2024-02-25"
        ],
        [
         124,
         "Kavita",
         "Sharma",
         "user124@example.com",
         "9654321098",
         "Kolkata",
         "2023-11-15"
        ],
        [
         125,
         "Tarun",
         "Verma",
         "user125@example.com",
         "9643210987",
         "Delhi",
         "2024-04-05"
        ],
        [
         126,
         "Bhavna",
         "Nair",
         "user126@example.com",
         "9632109876",
         "Mumbai",
         "2023-07-17"
        ],
        [
         127,
         "Rohit",
         "Mehta",
         "user127@example.com",
         "9621098765",
         "Bangalore",
         "2023-08-30"
        ],
        [
         128,
         "Simran",
         "Joshi",
         "user128@example.com",
         "9610987654",
         "Hyderabad",
         "2023-06-11"
        ],
        [
         129,
         "Vivek",
         "Singh",
         "user129@example.com",
         "9609876543",
         "Chennai",
         "2024-02-12"
        ],
        [
         130,
         "Tanvi",
         "Kapoor",
         "user130@example.com",
         "9598765432",
         "Pune",
         "2023-12-22"
        ],
        [
         131,
         "Gaurav",
         "Patel",
         "user131@example.com",
         "9587654321",
         "Ahmedabad",
         "2023-10-05"
        ],
        [
         132,
         "Reena",
         "Sharma",
         "user132@example.com",
         "9576543210",
         "Kolkata",
         "2024-03-20"
        ],
        [
         133,
         "Ishaan",
         "Verma",
         "user133@example.com",
         "9565432109",
         "Delhi",
         "2023-07-03"
        ],
        [
         134,
         "Jaya",
         "Yadav",
         "user134@example.com",
         "9554321098",
         "Mumbai",
         "2023-08-08"
        ],
        [
         135,
         "Sakshi",
         "Mishra",
         "user135@example.com",
         "9543210987",
         "Bangalore",
         "2023-06-29"
        ],
        [
         136,
         "Nilesh",
         "Kapoor",
         "user136@example.com",
         "9532109876",
         "Hyderabad",
         "2024-01-30"
        ],
        [
         137,
         "Shweta",
         "Mehta",
         "user137@example.com",
         "9521098765",
         "Chennai",
         "2023-05-06"
        ],
        [
         138,
         "Yash",
         "Singh",
         "user138@example.com",
         "9510987654",
         "Pune",
         "2023-10-18"
        ],
        [
         139,
         "Harsha",
         "Patel",
         "user139@example.com",
         "9509876543",
         "Ahmedabad",
         "2024-03-08"
        ],
        [
         140,
         "Vipin",
         "Joshi",
         "user140@example.com",
         "9498765432",
         "Kolkata",
         "2023-09-07"
        ],
        [
         141,
         "Rachna",
         "Nair",
         "user141@example.com",
         "9487654321",
         "Delhi",
         "2024-02-27"
        ],
        [
         142,
         "Lokesh",
         "Mishra",
         "user142@example.com",
         "9476543210",
         "Mumbai",
         "2023-04-25"
        ],
        [
         143,
         "Payal",
         "Sharma",
         "user143@example.com",
         "9465432109",
         "Bangalore",
         "2023-08-16"
        ],
        [
         144,
         "Abhay",
         "Yadav",
         "user144@example.com",
         "9454321098",
         "Hyderabad",
         "2024-01-06"
        ],
        [
         145,
         "Ritu",
         "Kapoor",
         "user145@example.com",
         "9443210987",
         "Chennai",
         "2023-11-09"
        ],
        [
         146,
         "Dev",
         "Mehta",
         "user146@example.com",
         "9432109876",
         "Pune",
         "2023-07-27"
        ],
        [
         147,
         "Shikha",
         "Singh",
         "user147@example.com",
         "9421098765",
         "Ahmedabad",
         "2023-10-12"
        ],
        [
         148,
         "Mahesh",
         "Patel",
         "user148@example.com",
         "9410987654",
         "Kolkata",
         "2024-02-15"
        ],
        [
         149,
         "Tanya",
         "Verma",
         "user149@example.com",
         "9409876543",
         "Delhi",
         "2023-06-20"
        ],
        [
         150,
         "Aman",
         "Joshi",
         "user150@example.com",
         "9398765432",
         "Mumbai",
         "2023-05-31"
        ]
       ],
       "datasetInfos": [],
       "dbfsResultPath": null,
       "isJsonSchema": true,
       "metadata": {},
       "overflow": false,
       "plotOptions": {
        "customPlotOptions": {},
        "displayType": "table",
        "pivotAggregation": null,
        "pivotColumns": null,
        "xColumns": null,
        "yColumns": null
       },
       "removedWidgets": [],
       "schema": [
        {
         "metadata": "{}",
         "name": "customer_id",
         "type": "\"long\""
        },
        {
         "metadata": "{}",
         "name": "first_name",
         "type": "\"string\""
        },
        {
         "metadata": "{}",
         "name": "last_name",
         "type": "\"string\""
        },
        {
         "metadata": "{}",
         "name": "email",
         "type": "\"string\""
        },
        {
         "metadata": "{}",
         "name": "phone",
         "type": "\"string\""
        },
        {
         "metadata": "{}",
         "name": "city",
         "type": "\"string\""
        },
        {
         "metadata": "{}",
         "name": "registration_date",
         "type": "\"string\""
        }
       ],
       "type": "table"
      }
     },
     "output_type": "display_data"
    }
   ],
   "source": [
    "dbutils.fs.ls('/mnt/store_project/bronze/')\n",
    "\n",
    "# STEP 3: CREATE THE DATAFRAMES\n",
    "\n",
    "# Read the bronze layer\n",
    "# Read raw data from Bronze layer\n",
    "df_transactions = spark.read.parquet('/mnt/store_project/bronze/transactions.parquet')\n",
    "df_products = spark.read.parquet('/mnt/store_project/bronze/products.parquet')\n",
    "df_shop = spark.read.parquet('/mnt/store_project/bronze/stores.parquet') \n",
    "\n",
    "df_customers = spark.read.parquet('/mnt/store_project/bronze/customers.parquet')\n",
    "display(df_customers)"
   ]
  },
  {
   "cell_type": "code",
   "execution_count": 0,
   "metadata": {
    "application/vnd.databricks.v1+cell": {
     "cellMetadata": {
      "byteLimit": 2048000,
      "rowLimit": 10000
     },
     "inputWidgets": {},
     "nuid": "ad98f3c2-0c86-4b7b-b271-2fac90db083b",
     "showTitle": false,
     "tableResultSettingsMap": {},
     "title": ""
    }
   },
   "outputs": [
    {
     "output_type": "stream",
     "name": "stdout",
     "output_type": "stream",
     "text": [
      "/mnt/storeanalytics/silver has been unmounted.\n"
     ]
    },
    {
     "output_type": "execute_result",
     "data": {
      "text/plain": [
       "True"
      ]
     },
     "execution_count": 59,
     "metadata": {},
     "output_type": "execute_result"
    }
   ],
   "source": [
    "#dbutils.fs.unmount(\"/mnt/storeanalytics/silver\")"
   ]
  },
  {
   "cell_type": "code",
   "execution_count": 0,
   "metadata": {
    "application/vnd.databricks.v1+cell": {
     "cellMetadata": {
      "byteLimit": 2048000,
      "rowLimit": 10000
     },
     "inputWidgets": {},
     "nuid": "456e33ae-9e99-4dc1-8d0e-ad062241f582",
     "showTitle": false,
     "tableResultSettingsMap": {},
     "title": ""
    }
   },
   "outputs": [
    {
     "output_type": "execute_result",
     "data": {
      "text/plain": [
       "[SecretScope(name='newscope')]"
      ]
     },
     "execution_count": 3,
     "metadata": {},
     "output_type": "execute_result"
    }
   ],
   "source": [
    "dbutils.secrets.listScopes()"
   ]
  },
  {
   "cell_type": "code",
   "execution_count": 0,
   "metadata": {
    "application/vnd.databricks.v1+cell": {
     "cellMetadata": {
      "byteLimit": 2048000,
      "rowLimit": 10000
     },
     "inputWidgets": {},
     "nuid": "9fec8ec8-c14b-4547-9afe-622d40a7d00c",
     "showTitle": false,
     "tableResultSettingsMap": {},
     "title": ""
    }
   },
   "outputs": [
    {
     "output_type": "execute_result",
     "data": {
      "text/plain": [
       "[FileInfo(path='dbfs:/mnt/store_project/bronze/customers.parquet', name='customers.parquet', size=3247, modificationTime=1758935963000),\n",
       " FileInfo(path='dbfs:/mnt/store_project/bronze/products.parquet', name='products.parquet', size=1239, modificationTime=1758938932000),\n",
       " FileInfo(path='dbfs:/mnt/store_project/bronze/stores.parquet', name='stores.parquet', size=867, modificationTime=1758938935000),\n",
       " FileInfo(path='dbfs:/mnt/store_project/bronze/transactions.parquet', name='transactions.parquet', size=1757, modificationTime=1758938929000)]"
      ]
     },
     "execution_count": 65,
     "metadata": {},
     "output_type": "execute_result"
    }
   ],
   "source": [
    "# STEP2: LIST THE FILES\n",
    "\n",
    "dbutils.fs.ls('/mnt/store_project/bronze/')\n"
   ]
  },
  {
   "cell_type": "code",
   "execution_count": 0,
   "metadata": {
    "application/vnd.databricks.v1+cell": {
     "cellMetadata": {
      "byteLimit": 2048000,
      "rowLimit": 10000
     },
     "inputWidgets": {},
     "nuid": "0751a12d-6350-4725-a571-4a84cd5fdc3e",
     "showTitle": false,
     "tableResultSettingsMap": {},
     "title": ""
    }
   },
   "outputs": [
    {
     "output_type": "display_data",
     "data": {
      "text/html": [
       "<style scoped>\n",
       "  .table-result-container {\n",
       "    max-height: 300px;\n",
       "    overflow: auto;\n",
       "  }\n",
       "  table, th, td {\n",
       "    border: 1px solid black;\n",
       "    border-collapse: collapse;\n",
       "  }\n",
       "  th, td {\n",
       "    padding: 5px;\n",
       "  }\n",
       "  th {\n",
       "    text-align: left;\n",
       "  }\n",
       "</style><div class='table-result-container'><table class='table-result'><thead style='background-color: white'><tr><th>transaction_id</th><th>customer_id</th><th>product_id</th><th>store_id</th><th>quantity</th><th>transaction_date</th></tr></thead><tbody><tr><td>1</td><td>127</td><td>8</td><td>4</td><td>4</td><td>2025-03-31</td></tr><tr><td>2</td><td>105</td><td>3</td><td>4</td><td>5</td><td>2024-11-12</td></tr><tr><td>3</td><td>116</td><td>2</td><td>2</td><td>3</td><td>2025-05-01</td></tr><tr><td>4</td><td>120</td><td>8</td><td>1</td><td>1</td><td>2024-11-02</td></tr><tr><td>5</td><td>105</td><td>5</td><td>2</td><td>1</td><td>2025-03-17</td></tr><tr><td>6</td><td>110</td><td>7</td><td>3</td><td>5</td><td>2025-01-04</td></tr><tr><td>7</td><td>110</td><td>7</td><td>2</td><td>5</td><td>2025-01-01</td></tr><tr><td>8</td><td>126</td><td>7</td><td>5</td><td>2</td><td>2025-06-08</td></tr><tr><td>9</td><td>123</td><td>1</td><td>3</td><td>2</td><td>2024-10-08</td></tr><tr><td>10</td><td>124</td><td>2</td><td>2</td><td>5</td><td>2024-08-27</td></tr><tr><td>11</td><td>102</td><td>1</td><td>3</td><td>2</td><td>2024-08-11</td></tr><tr><td>12</td><td>108</td><td>5</td><td>1</td><td>4</td><td>2025-05-26</td></tr><tr><td>13</td><td>104</td><td>3</td><td>3</td><td>4</td><td>2025-05-04</td></tr><tr><td>14</td><td>120</td><td>1</td><td>4</td><td>5</td><td>2024-07-17</td></tr><tr><td>15</td><td>121</td><td>6</td><td>5</td><td>5</td><td>2025-05-19</td></tr><tr><td>16</td><td>118</td><td>6</td><td>2</td><td>4</td><td>2024-11-29</td></tr><tr><td>17</td><td>109</td><td>8</td><td>5</td><td>5</td><td>2024-07-10</td></tr><tr><td>18</td><td>103</td><td>1</td><td>4</td><td>3</td><td>2024-09-05</td></tr><tr><td>19</td><td>116</td><td>8</td><td>4</td><td>4</td><td>2024-07-14</td></tr><tr><td>20</td><td>130</td><td>5</td><td>1</td><td>2</td><td>2024-07-30</td></tr><tr><td>21</td><td>105</td><td>1</td><td>3</td><td>5</td><td>2024-10-02</td></tr><tr><td>22</td><td>107</td><td>9</td><td>3</td><td>4</td><td>2024-11-16</td></tr><tr><td>23</td><td>122</td><td>9</td><td>4</td><td>2</td><td>2025-04-30</td></tr><tr><td>24</td><td>125</td><td>1</td><td>5</td><td>1</td><td>2024-07-14</td></tr><tr><td>25</td><td>116</td><td>8</td><td>4</td><td>5</td><td>2024-12-13</td></tr><tr><td>26</td><td>126</td><td>6</td><td>2</td><td>2</td><td>2024-09-21</td></tr><tr><td>27</td><td>127</td><td>8</td><td>1</td><td>1</td><td>2024-10-10</td></tr><tr><td>28</td><td>101</td><td>7</td><td>5</td><td>3</td><td>2024-11-15</td></tr><tr><td>29</td><td>119</td><td>9</td><td>4</td><td>2</td><td>2025-06-03</td></tr><tr><td>30</td><td>116</td><td>8</td><td>4</td><td>5</td><td>2025-03-16</td></tr></tbody></table></div>"
      ]
     },
     "metadata": {
      "application/vnd.databricks.v1+output": {
       "addedWidgets": {},
       "aggData": [],
       "aggError": "",
       "aggOverflow": false,
       "aggSchema": [],
       "aggSeriesLimitReached": false,
       "aggType": "",
       "arguments": {},
       "columnCustomDisplayInfos": {},
       "data": [
        [
         1,
         127,
         8,
         4,
         4,
         "2025-03-31"
        ],
        [
         2,
         105,
         3,
         4,
         5,
         "2024-11-12"
        ],
        [
         3,
         116,
         2,
         2,
         3,
         "2025-05-01"
        ],
        [
         4,
         120,
         8,
         1,
         1,
         "2024-11-02"
        ],
        [
         5,
         105,
         5,
         2,
         1,
         "2025-03-17"
        ],
        [
         6,
         110,
         7,
         3,
         5,
         "2025-01-04"
        ],
        [
         7,
         110,
         7,
         2,
         5,
         "2025-01-01"
        ],
        [
         8,
         126,
         7,
         5,
         2,
         "2025-06-08"
        ],
        [
         9,
         123,
         1,
         3,
         2,
         "2024-10-08"
        ],
        [
         10,
         124,
         2,
         2,
         5,
         "2024-08-27"
        ],
        [
         11,
         102,
         1,
         3,
         2,
         "2024-08-11"
        ],
        [
         12,
         108,
         5,
         1,
         4,
         "2025-05-26"
        ],
        [
         13,
         104,
         3,
         3,
         4,
         "2025-05-04"
        ],
        [
         14,
         120,
         1,
         4,
         5,
         "2024-07-17"
        ],
        [
         15,
         121,
         6,
         5,
         5,
         "2025-05-19"
        ],
        [
         16,
         118,
         6,
         2,
         4,
         "2024-11-29"
        ],
        [
         17,
         109,
         8,
         5,
         5,
         "2024-07-10"
        ],
        [
         18,
         103,
         1,
         4,
         3,
         "2024-09-05"
        ],
        [
         19,
         116,
         8,
         4,
         4,
         "2024-07-14"
        ],
        [
         20,
         130,
         5,
         1,
         2,
         "2024-07-30"
        ],
        [
         21,
         105,
         1,
         3,
         5,
         "2024-10-02"
        ],
        [
         22,
         107,
         9,
         3,
         4,
         "2024-11-16"
        ],
        [
         23,
         122,
         9,
         4,
         2,
         "2025-04-30"
        ],
        [
         24,
         125,
         1,
         5,
         1,
         "2024-07-14"
        ],
        [
         25,
         116,
         8,
         4,
         5,
         "2024-12-13"
        ],
        [
         26,
         126,
         6,
         2,
         2,
         "2024-09-21"
        ],
        [
         27,
         127,
         8,
         1,
         1,
         "2024-10-10"
        ],
        [
         28,
         101,
         7,
         5,
         3,
         "2024-11-15"
        ],
        [
         29,
         119,
         9,
         4,
         2,
         "2025-06-03"
        ],
        [
         30,
         116,
         8,
         4,
         5,
         "2025-03-16"
        ]
       ],
       "datasetInfos": [],
       "dbfsResultPath": null,
       "isJsonSchema": true,
       "metadata": {},
       "overflow": false,
       "plotOptions": {
        "customPlotOptions": {},
        "displayType": "table",
        "pivotAggregation": null,
        "pivotColumns": null,
        "xColumns": null,
        "yColumns": null
       },
       "removedWidgets": [],
       "schema": [
        {
         "metadata": "{}",
         "name": "transaction_id",
         "type": "\"integer\""
        },
        {
         "metadata": "{}",
         "name": "customer_id",
         "type": "\"integer\""
        },
        {
         "metadata": "{}",
         "name": "product_id",
         "type": "\"integer\""
        },
        {
         "metadata": "{}",
         "name": "store_id",
         "type": "\"integer\""
        },
        {
         "metadata": "{}",
         "name": "quantity",
         "type": "\"integer\""
        },
        {
         "metadata": "{}",
         "name": "transaction_date",
         "type": "\"date\""
        }
       ],
       "type": "table"
      }
     },
     "output_type": "display_data"
    }
   ],
   "source": [
    "# STEP 4: CHECK THE DATAFRAME\n",
    "\n",
    "display(df_transactions)\n",
    "\n"
   ]
  },
  {
   "cell_type": "code",
   "execution_count": 0,
   "metadata": {
    "application/vnd.databricks.v1+cell": {
     "cellMetadata": {
      "byteLimit": 2048000,
      "rowLimit": 10000
     },
     "inputWidgets": {},
     "nuid": "e271e45c-20f3-4118-ad71-2ccf5c0a86c8",
     "showTitle": false,
     "tableResultSettingsMap": {},
     "title": ""
    }
   },
   "outputs": [],
   "source": [
    "# STEP 5: START CLEANING\n",
    "\n",
    "# Create silver layer - data cleaning\n",
    "\n",
    "from pyspark.sql.functions import col\n",
    "\n",
    "# Convert types and clean data\n",
    "df_transactions = df_transactions.select(\n",
    "    col(\"transaction_id\").cast(\"int\"),\n",
    "    col(\"customer_id\").cast(\"int\"),\n",
    "    col(\"product_id\").cast(\"int\"),\n",
    "    col(\"store_id\").cast(\"int\"),\n",
    "    col(\"quantity\").cast(\"int\"),\n",
    "    col(\"transaction_date\").cast(\"date\")\n",
    ")\n",
    "\n",
    "df_products = df_products.select(\n",
    "    col(\"product_id\").cast(\"int\"),\n",
    "    col(\"product_name\"),\n",
    "    col(\"category\"),\n",
    "    col(\"price\").cast(\"double\")\n",
    ")\n",
    "\n",
    "df_shop = df_shop.select(\n",
    "    col(\"store_id\").cast(\"int\"),\n",
    "    col(\"store_name\"),\n",
    "    col(\"location\")\n",
    ")\n",
    "\n",
    "df_customers = df_customers.select(\n",
    "    \"customer_id\", \"first_name\", \"last_name\", \"email\", \"city\", \"registration_date\"\n",
    ").dropDuplicates([\"customer_id\"])"
   ]
  },
  {
   "cell_type": "code",
   "execution_count": 0,
   "metadata": {
    "application/vnd.databricks.v1+cell": {
     "cellMetadata": {
      "byteLimit": 2048000,
      "rowLimit": 10000
     },
     "inputWidgets": {},
     "nuid": "22dc6ea6-3f1e-44a5-8d1f-84e8a96be1e0",
     "showTitle": false,
     "tableResultSettingsMap": {},
     "title": ""
    }
   },
   "outputs": [
    {
     "output_type": "display_data",
     "data": {
      "text/html": [
       "<style scoped>\n",
       "  .table-result-container {\n",
       "    max-height: 300px;\n",
       "    overflow: auto;\n",
       "  }\n",
       "  table, th, td {\n",
       "    border: 1px solid black;\n",
       "    border-collapse: collapse;\n",
       "  }\n",
       "  th, td {\n",
       "    padding: 5px;\n",
       "  }\n",
       "  th {\n",
       "    text-align: left;\n",
       "  }\n",
       "</style><div class='table-result-container'><table class='table-result'><thead style='background-color: white'><tr><th>store_id</th><th>product_id</th><th>customer_id</th><th>transaction_id</th><th>quantity</th><th>transaction_date</th><th>first_name</th><th>last_name</th><th>email</th><th>city</th><th>registration_date</th><th>product_name</th><th>category</th><th>price</th><th>store_name</th><th>location</th><th>total_amount</th></tr></thead><tbody><tr><td>5</td><td>7</td><td>101</td><td>28</td><td>3</td><td>2024-11-15</td><td>Ravi</td><td>Yadav</td><td>user101@example.com</td><td>Delhi</td><td>2023-09-14</td><td>Smartwatch</td><td>Electronics</td><td>4999.0</td><td>Mega Plaza</td><td>Chennai</td><td>14997.0</td></tr><tr><td>3</td><td>1</td><td>102</td><td>11</td><td>2</td><td>2024-08-11</td><td>Nina</td><td>Joshi</td><td>user102@example.com</td><td>Mumbai</td><td>2024-01-21</td><td>Wireless Mouse</td><td>Electronics</td><td>799.99</td><td>Tech World Outlet</td><td>Bangalore</td><td>1599.98</td></tr><tr><td>4</td><td>1</td><td>103</td><td>18</td><td>3</td><td>2024-09-05</td><td>Sonal</td><td>Sharma</td><td>user103@example.com</td><td>Bangalore</td><td>2023-07-10</td><td>Wireless Mouse</td><td>Electronics</td><td>799.99</td><td>Downtown Mini Store</td><td>Pune</td><td>2399.9700000000003</td></tr><tr><td>3</td><td>3</td><td>104</td><td>13</td><td>4</td><td>2025-05-04</td><td>Karan</td><td>Patel</td><td>user104@example.com</td><td>Hyderabad</td><td>2024-02-05</td><td>Yoga Mat</td><td>Fitness</td><td>499.0</td><td>Tech World Outlet</td><td>Bangalore</td><td>1996.0</td></tr><tr><td>3</td><td>1</td><td>105</td><td>21</td><td>5</td><td>2024-10-02</td><td>Riya</td><td>Singh</td><td>user105@example.com</td><td>Chennai</td><td>2023-06-28</td><td>Wireless Mouse</td><td>Electronics</td><td>799.99</td><td>Tech World Outlet</td><td>Bangalore</td><td>3999.95</td></tr><tr><td>2</td><td>5</td><td>105</td><td>5</td><td>1</td><td>2025-03-17</td><td>Riya</td><td>Singh</td><td>user105@example.com</td><td>Chennai</td><td>2023-06-28</td><td>Notebook Set</td><td>Stationery</td><td>149.0</td><td>High Street Store</td><td>Delhi</td><td>149.0</td></tr><tr><td>4</td><td>3</td><td>105</td><td>2</td><td>5</td><td>2024-11-12</td><td>Riya</td><td>Singh</td><td>user105@example.com</td><td>Chennai</td><td>2023-06-28</td><td>Yoga Mat</td><td>Fitness</td><td>499.0</td><td>Downtown Mini Store</td><td>Pune</td><td>2495.0</td></tr><tr><td>3</td><td>9</td><td>107</td><td>22</td><td>4</td><td>2024-11-16</td><td>Priya</td><td>Kapoor</td><td>user107@example.com</td><td>Ahmedabad</td><td>2023-05-12</td><td>Dumbbell Set</td><td>Fitness</td><td>1999.0</td><td>Tech World Outlet</td><td>Bangalore</td><td>7996.0</td></tr><tr><td>1</td><td>5</td><td>108</td><td>12</td><td>4</td><td>2025-05-26</td><td>Rahul</td><td>Verma</td><td>user108@example.com</td><td>Kolkata</td><td>2023-08-19</td><td>Notebook Set</td><td>Stationery</td><td>149.0</td><td>City Mall Store</td><td>Mumbai</td><td>596.0</td></tr><tr><td>5</td><td>8</td><td>109</td><td>17</td><td>5</td><td>2024-07-10</td><td>Pooja</td><td>Mehta</td><td>user109@example.com</td><td>Delhi</td><td>2024-04-01</td><td>Desk Organizer</td><td>Accessories</td><td>399.0</td><td>Mega Plaza</td><td>Chennai</td><td>1995.0</td></tr><tr><td>2</td><td>7</td><td>110</td><td>7</td><td>5</td><td>2025-01-01</td><td>Deepak</td><td>Nair</td><td>user110@example.com</td><td>Mumbai</td><td>2023-10-14</td><td>Smartwatch</td><td>Electronics</td><td>4999.0</td><td>High Street Store</td><td>Delhi</td><td>24995.0</td></tr><tr><td>3</td><td>7</td><td>110</td><td>6</td><td>5</td><td>2025-01-04</td><td>Deepak</td><td>Nair</td><td>user110@example.com</td><td>Mumbai</td><td>2023-10-14</td><td>Smartwatch</td><td>Electronics</td><td>4999.0</td><td>Tech World Outlet</td><td>Bangalore</td><td>24995.0</td></tr><tr><td>4</td><td>8</td><td>116</td><td>30</td><td>5</td><td>2025-03-16</td><td>Rakesh</td><td>Kapoor</td><td>user116@example.com</td><td>Kolkata</td><td>2023-06-15</td><td>Desk Organizer</td><td>Accessories</td><td>399.0</td><td>Downtown Mini Store</td><td>Pune</td><td>1995.0</td></tr><tr><td>4</td><td>8</td><td>116</td><td>25</td><td>5</td><td>2024-12-13</td><td>Rakesh</td><td>Kapoor</td><td>user116@example.com</td><td>Kolkata</td><td>2023-06-15</td><td>Desk Organizer</td><td>Accessories</td><td>399.0</td><td>Downtown Mini Store</td><td>Pune</td><td>1995.0</td></tr><tr><td>4</td><td>8</td><td>116</td><td>19</td><td>4</td><td>2024-07-14</td><td>Rakesh</td><td>Kapoor</td><td>user116@example.com</td><td>Kolkata</td><td>2023-06-15</td><td>Desk Organizer</td><td>Accessories</td><td>399.0</td><td>Downtown Mini Store</td><td>Pune</td><td>1596.0</td></tr><tr><td>2</td><td>2</td><td>116</td><td>3</td><td>3</td><td>2025-05-01</td><td>Rakesh</td><td>Kapoor</td><td>user116@example.com</td><td>Kolkata</td><td>2023-06-15</td><td>Bluetooth Speaker</td><td>Electronics</td><td>1299.49</td><td>High Street Store</td><td>Delhi</td><td>3898.4700000000003</td></tr><tr><td>2</td><td>6</td><td>118</td><td>16</td><td>4</td><td>2024-11-29</td><td>Vikram</td><td>Mehta</td><td>user118@example.com</td><td>Mumbai</td><td>2023-04-22</td><td>Water Bottle</td><td>Fitness</td><td>299.0</td><td>High Street Store</td><td>Delhi</td><td>1196.0</td></tr><tr><td>4</td><td>9</td><td>119</td><td>29</td><td>2</td><td>2025-06-03</td><td>Kunal</td><td>Nair</td><td>user119@example.com</td><td>Bangalore</td><td>2023-08-10</td><td>Dumbbell Set</td><td>Fitness</td><td>1999.0</td><td>Downtown Mini Store</td><td>Pune</td><td>3998.0</td></tr><tr><td>4</td><td>1</td><td>120</td><td>14</td><td>5</td><td>2024-07-17</td><td>Alka</td><td>Mishra</td><td>user120@example.com</td><td>Hyderabad</td><td>2023-12-01</td><td>Wireless Mouse</td><td>Electronics</td><td>799.99</td><td>Downtown Mini Store</td><td>Pune</td><td>3999.95</td></tr><tr><td>1</td><td>8</td><td>120</td><td>4</td><td>1</td><td>2024-11-02</td><td>Alka</td><td>Mishra</td><td>user120@example.com</td><td>Hyderabad</td><td>2023-12-01</td><td>Desk Organizer</td><td>Accessories</td><td>399.0</td><td>City Mall Store</td><td>Mumbai</td><td>399.0</td></tr><tr><td>5</td><td>6</td><td>121</td><td>15</td><td>5</td><td>2025-05-19</td><td>Sanjay</td><td>Patel</td><td>user121@example.com</td><td>Chennai</td><td>2024-01-10</td><td>Water Bottle</td><td>Fitness</td><td>299.0</td><td>Mega Plaza</td><td>Chennai</td><td>1495.0</td></tr><tr><td>4</td><td>9</td><td>122</td><td>23</td><td>2</td><td>2025-04-30</td><td>Tina</td><td>Kapoor</td><td>user122@example.com</td><td>Pune</td><td>2023-09-20</td><td>Dumbbell Set</td><td>Fitness</td><td>1999.0</td><td>Downtown Mini Store</td><td>Pune</td><td>3998.0</td></tr><tr><td>3</td><td>1</td><td>123</td><td>9</td><td>2</td><td>2024-10-08</td><td>Arjun</td><td>Yadav</td><td>user123@example.com</td><td>Ahmedabad</td><td>2024-02-25</td><td>Wireless Mouse</td><td>Electronics</td><td>799.99</td><td>Tech World Outlet</td><td>Bangalore</td><td>1599.98</td></tr><tr><td>2</td><td>2</td><td>124</td><td>10</td><td>5</td><td>2024-08-27</td><td>Kavita</td><td>Sharma</td><td>user124@example.com</td><td>Kolkata</td><td>2023-11-15</td><td>Bluetooth Speaker</td><td>Electronics</td><td>1299.49</td><td>High Street Store</td><td>Delhi</td><td>6497.45</td></tr><tr><td>5</td><td>1</td><td>125</td><td>24</td><td>1</td><td>2024-07-14</td><td>Tarun</td><td>Verma</td><td>user125@example.com</td><td>Delhi</td><td>2024-04-05</td><td>Wireless Mouse</td><td>Electronics</td><td>799.99</td><td>Mega Plaza</td><td>Chennai</td><td>799.99</td></tr><tr><td>2</td><td>6</td><td>126</td><td>26</td><td>2</td><td>2024-09-21</td><td>Bhavna</td><td>Nair</td><td>user126@example.com</td><td>Mumbai</td><td>2023-07-17</td><td>Water Bottle</td><td>Fitness</td><td>299.0</td><td>High Street Store</td><td>Delhi</td><td>598.0</td></tr><tr><td>5</td><td>7</td><td>126</td><td>8</td><td>2</td><td>2025-06-08</td><td>Bhavna</td><td>Nair</td><td>user126@example.com</td><td>Mumbai</td><td>2023-07-17</td><td>Smartwatch</td><td>Electronics</td><td>4999.0</td><td>Mega Plaza</td><td>Chennai</td><td>9998.0</td></tr><tr><td>1</td><td>8</td><td>127</td><td>27</td><td>1</td><td>2024-10-10</td><td>Rohit</td><td>Mehta</td><td>user127@example.com</td><td>Bangalore</td><td>2023-08-30</td><td>Desk Organizer</td><td>Accessories</td><td>399.0</td><td>City Mall Store</td><td>Mumbai</td><td>399.0</td></tr><tr><td>4</td><td>8</td><td>127</td><td>1</td><td>4</td><td>2025-03-31</td><td>Rohit</td><td>Mehta</td><td>user127@example.com</td><td>Bangalore</td><td>2023-08-30</td><td>Desk Organizer</td><td>Accessories</td><td>399.0</td><td>Downtown Mini Store</td><td>Pune</td><td>1596.0</td></tr><tr><td>1</td><td>5</td><td>130</td><td>20</td><td>2</td><td>2024-07-30</td><td>Tanvi</td><td>Kapoor</td><td>user130@example.com</td><td>Pune</td><td>2023-12-22</td><td>Notebook Set</td><td>Stationery</td><td>149.0</td><td>City Mall Store</td><td>Mumbai</td><td>298.0</td></tr></tbody></table></div>"
      ]
     },
     "metadata": {
      "application/vnd.databricks.v1+output": {
       "addedWidgets": {},
       "aggData": [],
       "aggError": "",
       "aggOverflow": false,
       "aggSchema": [],
       "aggSeriesLimitReached": false,
       "aggType": "",
       "arguments": {},
       "columnCustomDisplayInfos": {},
       "data": [
        [
         5,
         7,
         101,
         28,
         3,
         "2024-11-15",
         "Ravi",
         "Yadav",
         "user101@example.com",
         "Delhi",
         "2023-09-14",
         "Smartwatch",
         "Electronics",
         4999.0,
         "Mega Plaza",
         "Chennai",
         14997.0
        ],
        [
         3,
         1,
         102,
         11,
         2,
         "2024-08-11",
         "Nina",
         "Joshi",
         "user102@example.com",
         "Mumbai",
         "2024-01-21",
         "Wireless Mouse",
         "Electronics",
         799.99,
         "Tech World Outlet",
         "Bangalore",
         1599.98
        ],
        [
         4,
         1,
         103,
         18,
         3,
         "2024-09-05",
         "Sonal",
         "Sharma",
         "user103@example.com",
         "Bangalore",
         "2023-07-10",
         "Wireless Mouse",
         "Electronics",
         799.99,
         "Downtown Mini Store",
         "Pune",
         2399.9700000000003
        ],
        [
         3,
         3,
         104,
         13,
         4,
         "2025-05-04",
         "Karan",
         "Patel",
         "user104@example.com",
         "Hyderabad",
         "2024-02-05",
         "Yoga Mat",
         "Fitness",
         499.0,
         "Tech World Outlet",
         "Bangalore",
         1996.0
        ],
        [
         3,
         1,
         105,
         21,
         5,
         "2024-10-02",
         "Riya",
         "Singh",
         "user105@example.com",
         "Chennai",
         "2023-06-28",
         "Wireless Mouse",
         "Electronics",
         799.99,
         "Tech World Outlet",
         "Bangalore",
         3999.95
        ],
        [
         2,
         5,
         105,
         5,
         1,
         "2025-03-17",
         "Riya",
         "Singh",
         "user105@example.com",
         "Chennai",
         "2023-06-28",
         "Notebook Set",
         "Stationery",
         149.0,
         "High Street Store",
         "Delhi",
         149.0
        ],
        [
         4,
         3,
         105,
         2,
         5,
         "2024-11-12",
         "Riya",
         "Singh",
         "user105@example.com",
         "Chennai",
         "2023-06-28",
         "Yoga Mat",
         "Fitness",
         499.0,
         "Downtown Mini Store",
         "Pune",
         2495.0
        ],
        [
         3,
         9,
         107,
         22,
         4,
         "2024-11-16",
         "Priya",
         "Kapoor",
         "user107@example.com",
         "Ahmedabad",
         "2023-05-12",
         "Dumbbell Set",
         "Fitness",
         1999.0,
         "Tech World Outlet",
         "Bangalore",
         7996.0
        ],
        [
         1,
         5,
         108,
         12,
         4,
         "2025-05-26",
         "Rahul",
         "Verma",
         "user108@example.com",
         "Kolkata",
         "2023-08-19",
         "Notebook Set",
         "Stationery",
         149.0,
         "City Mall Store",
         "Mumbai",
         596.0
        ],
        [
         5,
         8,
         109,
         17,
         5,
         "2024-07-10",
         "Pooja",
         "Mehta",
         "user109@example.com",
         "Delhi",
         "2024-04-01",
         "Desk Organizer",
         "Accessories",
         399.0,
         "Mega Plaza",
         "Chennai",
         1995.0
        ],
        [
         2,
         7,
         110,
         7,
         5,
         "2025-01-01",
         "Deepak",
         "Nair",
         "user110@example.com",
         "Mumbai",
         "2023-10-14",
         "Smartwatch",
         "Electronics",
         4999.0,
         "High Street Store",
         "Delhi",
         24995.0
        ],
        [
         3,
         7,
         110,
         6,
         5,
         "2025-01-04",
         "Deepak",
         "Nair",
         "user110@example.com",
         "Mumbai",
         "2023-10-14",
         "Smartwatch",
         "Electronics",
         4999.0,
         "Tech World Outlet",
         "Bangalore",
         24995.0
        ],
        [
         4,
         8,
         116,
         30,
         5,
         "2025-03-16",
         "Rakesh",
         "Kapoor",
         "user116@example.com",
         "Kolkata",
         "2023-06-15",
         "Desk Organizer",
         "Accessories",
         399.0,
         "Downtown Mini Store",
         "Pune",
         1995.0
        ],
        [
         4,
         8,
         116,
         25,
         5,
         "2024-12-13",
         "Rakesh",
         "Kapoor",
         "user116@example.com",
         "Kolkata",
         "2023-06-15",
         "Desk Organizer",
         "Accessories",
         399.0,
         "Downtown Mini Store",
         "Pune",
         1995.0
        ],
        [
         4,
         8,
         116,
         19,
         4,
         "2024-07-14",
         "Rakesh",
         "Kapoor",
         "user116@example.com",
         "Kolkata",
         "2023-06-15",
         "Desk Organizer",
         "Accessories",
         399.0,
         "Downtown Mini Store",
         "Pune",
         1596.0
        ],
        [
         2,
         2,
         116,
         3,
         3,
         "2025-05-01",
         "Rakesh",
         "Kapoor",
         "user116@example.com",
         "Kolkata",
         "2023-06-15",
         "Bluetooth Speaker",
         "Electronics",
         1299.49,
         "High Street Store",
         "Delhi",
         3898.4700000000003
        ],
        [
         2,
         6,
         118,
         16,
         4,
         "2024-11-29",
         "Vikram",
         "Mehta",
         "user118@example.com",
         "Mumbai",
         "2023-04-22",
         "Water Bottle",
         "Fitness",
         299.0,
         "High Street Store",
         "Delhi",
         1196.0
        ],
        [
         4,
         9,
         119,
         29,
         2,
         "2025-06-03",
         "Kunal",
         "Nair",
         "user119@example.com",
         "Bangalore",
         "2023-08-10",
         "Dumbbell Set",
         "Fitness",
         1999.0,
         "Downtown Mini Store",
         "Pune",
         3998.0
        ],
        [
         4,
         1,
         120,
         14,
         5,
         "2024-07-17",
         "Alka",
         "Mishra",
         "user120@example.com",
         "Hyderabad",
         "2023-12-01",
         "Wireless Mouse",
         "Electronics",
         799.99,
         "Downtown Mini Store",
         "Pune",
         3999.95
        ],
        [
         1,
         8,
         120,
         4,
         1,
         "2024-11-02",
         "Alka",
         "Mishra",
         "user120@example.com",
         "Hyderabad",
         "2023-12-01",
         "Desk Organizer",
         "Accessories",
         399.0,
         "City Mall Store",
         "Mumbai",
         399.0
        ],
        [
         5,
         6,
         121,
         15,
         5,
         "2025-05-19",
         "Sanjay",
         "Patel",
         "user121@example.com",
         "Chennai",
         "2024-01-10",
         "Water Bottle",
         "Fitness",
         299.0,
         "Mega Plaza",
         "Chennai",
         1495.0
        ],
        [
         4,
         9,
         122,
         23,
         2,
         "2025-04-30",
         "Tina",
         "Kapoor",
         "user122@example.com",
         "Pune",
         "2023-09-20",
         "Dumbbell Set",
         "Fitness",
         1999.0,
         "Downtown Mini Store",
         "Pune",
         3998.0
        ],
        [
         3,
         1,
         123,
         9,
         2,
         "2024-10-08",
         "Arjun",
         "Yadav",
         "user123@example.com",
         "Ahmedabad",
         "2024-02-25",
         "Wireless Mouse",
         "Electronics",
         799.99,
         "Tech World Outlet",
         "Bangalore",
         1599.98
        ],
        [
         2,
         2,
         124,
         10,
         5,
         "2024-08-27",
         "Kavita",
         "Sharma",
         "user124@example.com",
         "Kolkata",
         "2023-11-15",
         "Bluetooth Speaker",
         "Electronics",
         1299.49,
         "High Street Store",
         "Delhi",
         6497.45
        ],
        [
         5,
         1,
         125,
         24,
         1,
         "2024-07-14",
         "Tarun",
         "Verma",
         "user125@example.com",
         "Delhi",
         "2024-04-05",
         "Wireless Mouse",
         "Electronics",
         799.99,
         "Mega Plaza",
         "Chennai",
         799.99
        ],
        [
         2,
         6,
         126,
         26,
         2,
         "2024-09-21",
         "Bhavna",
         "Nair",
         "user126@example.com",
         "Mumbai",
         "2023-07-17",
         "Water Bottle",
         "Fitness",
         299.0,
         "High Street Store",
         "Delhi",
         598.0
        ],
        [
         5,
         7,
         126,
         8,
         2,
         "2025-06-08",
         "Bhavna",
         "Nair",
         "user126@example.com",
         "Mumbai",
         "2023-07-17",
         "Smartwatch",
         "Electronics",
         4999.0,
         "Mega Plaza",
         "Chennai",
         9998.0
        ],
        [
         1,
         8,
         127,
         27,
         1,
         "2024-10-10",
         "Rohit",
         "Mehta",
         "user127@example.com",
         "Bangalore",
         "2023-08-30",
         "Desk Organizer",
         "Accessories",
         399.0,
         "City Mall Store",
         "Mumbai",
         399.0
        ],
        [
         4,
         8,
         127,
         1,
         4,
         "2025-03-31",
         "Rohit",
         "Mehta",
         "user127@example.com",
         "Bangalore",
         "2023-08-30",
         "Desk Organizer",
         "Accessories",
         399.0,
         "Downtown Mini Store",
         "Pune",
         1596.0
        ],
        [
         1,
         5,
         130,
         20,
         2,
         "2024-07-30",
         "Tanvi",
         "Kapoor",
         "user130@example.com",
         "Pune",
         "2023-12-22",
         "Notebook Set",
         "Stationery",
         149.0,
         "City Mall Store",
         "Mumbai",
         298.0
        ]
       ],
       "datasetInfos": [],
       "dbfsResultPath": null,
       "isJsonSchema": true,
       "metadata": {},
       "overflow": false,
       "plotOptions": {
        "customPlotOptions": {},
        "displayType": "table",
        "pivotAggregation": null,
        "pivotColumns": null,
        "xColumns": null,
        "yColumns": null
       },
       "removedWidgets": [],
       "schema": [
        {
         "metadata": "{}",
         "name": "store_id",
         "type": "\"integer\""
        },
        {
         "metadata": "{}",
         "name": "product_id",
         "type": "\"integer\""
        },
        {
         "metadata": "{}",
         "name": "customer_id",
         "type": "\"integer\""
        },
        {
         "metadata": "{}",
         "name": "transaction_id",
         "type": "\"integer\""
        },
        {
         "metadata": "{}",
         "name": "quantity",
         "type": "\"integer\""
        },
        {
         "metadata": "{}",
         "name": "transaction_date",
         "type": "\"date\""
        },
        {
         "metadata": "{}",
         "name": "first_name",
         "type": "\"string\""
        },
        {
         "metadata": "{}",
         "name": "last_name",
         "type": "\"string\""
        },
        {
         "metadata": "{}",
         "name": "email",
         "type": "\"string\""
        },
        {
         "metadata": "{}",
         "name": "city",
         "type": "\"string\""
        },
        {
         "metadata": "{}",
         "name": "registration_date",
         "type": "\"string\""
        },
        {
         "metadata": "{}",
         "name": "product_name",
         "type": "\"string\""
        },
        {
         "metadata": "{}",
         "name": "category",
         "type": "\"string\""
        },
        {
         "metadata": "{}",
         "name": "price",
         "type": "\"double\""
        },
        {
         "metadata": "{}",
         "name": "store_name",
         "type": "\"string\""
        },
        {
         "metadata": "{}",
         "name": "location",
         "type": "\"string\""
        },
        {
         "metadata": "{}",
         "name": "total_amount",
         "type": "\"double\""
        }
       ],
       "type": "table"
      }
     },
     "output_type": "display_data"
    }
   ],
   "source": [
    "# STEP 6: JOIN THE DATAFRAMES\n",
    "\n",
    "# Join all data together\n",
    "\n",
    "df_silver = df_transactions \\\n",
    "    .join(df_customers, \"customer_id\") \\\n",
    "    .join(df_products, \"product_id\") \\\n",
    "    .join(df_shop, \"store_id\") \\\n",
    "    .withColumn(\"total_amount\", col(\"quantity\") * col(\"price\"))\n",
    "\n",
    "\n",
    "# VALIDATE THE SILVER DATAFRAMES\n",
    "\n",
    "display(df_silver)\n",
    "\n"
   ]
  },
  {
   "cell_type": "code",
   "execution_count": 0,
   "metadata": {
    "application/vnd.databricks.v1+cell": {
     "cellMetadata": {
      "byteLimit": 2048000,
      "rowLimit": 10000
     },
     "inputWidgets": {},
     "nuid": "43d58a85-95af-4e0b-b971-a58c3196f2b0",
     "showTitle": false,
     "tableResultSettingsMap": {},
     "title": ""
    }
   },
   "outputs": [
    {
     "output_type": "execute_result",
     "data": {
      "text/plain": [
       "True"
      ]
     },
     "execution_count": 77,
     "metadata": {},
     "output_type": "execute_result"
    }
   ],
   "source": [
    "dbutils.fs.mount(\n",
    "source = \"abfss://storeanalytics@mynewstorageacctdb.dfs.core.windows.net/silver\",\n",
    "mount_point = \"/mnt/store_project/silver\",\n",
    "extra_configs = configs)"
   ]
  },
  {
   "cell_type": "code",
   "execution_count": 0,
   "metadata": {
    "application/vnd.databricks.v1+cell": {
     "cellMetadata": {
      "byteLimit": 2048000,
      "rowLimit": 10000
     },
     "inputWidgets": {},
     "nuid": "d02a4d2e-ea2c-423a-a15b-04b3a5fdc061",
     "showTitle": false,
     "tableResultSettingsMap": {},
     "title": ""
    }
   },
   "outputs": [
    {
     "output_type": "execute_result",
     "data": {
      "text/plain": [
       "DataFrame[]"
      ]
     },
     "execution_count": 136,
     "metadata": {},
     "output_type": "execute_result"
    }
   ],
   "source": [
    "# STEP 7: COPY TO THE SILVER CONTAINER\n",
    "\n",
    "# Copy to adls locatioN\n",
    "silver_path = \"/mnt/store_project/silver/\"\n",
    "\n",
    "df_silver.write.mode(\"overwrite\").format(\"delta\").save(silver_path)\n",
    "\n",
    "\n",
    "# CREATE A DELTA TABLE FOR THE SILVER DATASET\n",
    "\n",
    "abfss_path = \"abfss://storeanalytics@mynewstorageacctdb.dfs.core.windows.net/silver/\"\n",
    "# Create silver dataset\n",
    "\n",
    "spark.sql(f\"\"\"\n",
    "CREATE TABLE store_silver_cleaned\n",
    "USING DELTA\n",
    "LOCATION '{abfss_path}'\n",
    "\"\"\")"
   ]
  },
  {
   "cell_type": "code",
   "execution_count": 0,
   "metadata": {
    "application/vnd.databricks.v1+cell": {
     "cellMetadata": {
      "byteLimit": 2048000,
      "rowLimit": 10000
     },
     "inputWidgets": {},
     "nuid": "204fe0c0-a98a-4e9e-a522-28b2a34a745c",
     "showTitle": false,
     "tableResultSettingsMap": {},
     "title": ""
    }
   },
   "outputs": [
    {
     "output_type": "display_data",
     "data": {
      "text/html": [
       "<style scoped>\n",
       "  .table-result-container {\n",
       "    max-height: 300px;\n",
       "    overflow: auto;\n",
       "  }\n",
       "  table, th, td {\n",
       "    border: 1px solid black;\n",
       "    border-collapse: collapse;\n",
       "  }\n",
       "  th, td {\n",
       "    padding: 5px;\n",
       "  }\n",
       "  th {\n",
       "    text-align: left;\n",
       "  }\n",
       "</style><div class='table-result-container'><table class='table-result'><thead style='background-color: white'><tr><th>store_id</th><th>product_id</th><th>customer_id</th><th>transaction_id</th><th>quantity</th><th>transaction_date</th><th>first_name</th><th>last_name</th><th>email</th><th>city</th><th>registration_date</th><th>product_name</th><th>category</th><th>price</th><th>store_name</th><th>location</th><th>total_amount</th></tr></thead><tbody><tr><td>5</td><td>7</td><td>101</td><td>28</td><td>3</td><td>2024-11-15</td><td>Ravi</td><td>Yadav</td><td>user101@example.com</td><td>Delhi</td><td>2023-09-14</td><td>Smartwatch</td><td>Electronics</td><td>4999.0</td><td>Mega Plaza</td><td>Chennai</td><td>14997.0</td></tr><tr><td>3</td><td>1</td><td>102</td><td>11</td><td>2</td><td>2024-08-11</td><td>Nina</td><td>Joshi</td><td>user102@example.com</td><td>Mumbai</td><td>2024-01-21</td><td>Wireless Mouse</td><td>Electronics</td><td>799.99</td><td>Tech World Outlet</td><td>Bangalore</td><td>1599.98</td></tr><tr><td>4</td><td>1</td><td>103</td><td>18</td><td>3</td><td>2024-09-05</td><td>Sonal</td><td>Sharma</td><td>user103@example.com</td><td>Bangalore</td><td>2023-07-10</td><td>Wireless Mouse</td><td>Electronics</td><td>799.99</td><td>Downtown Mini Store</td><td>Pune</td><td>2399.9700000000003</td></tr><tr><td>3</td><td>3</td><td>104</td><td>13</td><td>4</td><td>2025-05-04</td><td>Karan</td><td>Patel</td><td>user104@example.com</td><td>Hyderabad</td><td>2024-02-05</td><td>Yoga Mat</td><td>Fitness</td><td>499.0</td><td>Tech World Outlet</td><td>Bangalore</td><td>1996.0</td></tr><tr><td>3</td><td>1</td><td>105</td><td>21</td><td>5</td><td>2024-10-02</td><td>Riya</td><td>Singh</td><td>user105@example.com</td><td>Chennai</td><td>2023-06-28</td><td>Wireless Mouse</td><td>Electronics</td><td>799.99</td><td>Tech World Outlet</td><td>Bangalore</td><td>3999.95</td></tr><tr><td>2</td><td>5</td><td>105</td><td>5</td><td>1</td><td>2025-03-17</td><td>Riya</td><td>Singh</td><td>user105@example.com</td><td>Chennai</td><td>2023-06-28</td><td>Notebook Set</td><td>Stationery</td><td>149.0</td><td>High Street Store</td><td>Delhi</td><td>149.0</td></tr><tr><td>4</td><td>3</td><td>105</td><td>2</td><td>5</td><td>2024-11-12</td><td>Riya</td><td>Singh</td><td>user105@example.com</td><td>Chennai</td><td>2023-06-28</td><td>Yoga Mat</td><td>Fitness</td><td>499.0</td><td>Downtown Mini Store</td><td>Pune</td><td>2495.0</td></tr><tr><td>3</td><td>9</td><td>107</td><td>22</td><td>4</td><td>2024-11-16</td><td>Priya</td><td>Kapoor</td><td>user107@example.com</td><td>Ahmedabad</td><td>2023-05-12</td><td>Dumbbell Set</td><td>Fitness</td><td>1999.0</td><td>Tech World Outlet</td><td>Bangalore</td><td>7996.0</td></tr><tr><td>1</td><td>5</td><td>108</td><td>12</td><td>4</td><td>2025-05-26</td><td>Rahul</td><td>Verma</td><td>user108@example.com</td><td>Kolkata</td><td>2023-08-19</td><td>Notebook Set</td><td>Stationery</td><td>149.0</td><td>City Mall Store</td><td>Mumbai</td><td>596.0</td></tr><tr><td>5</td><td>8</td><td>109</td><td>17</td><td>5</td><td>2024-07-10</td><td>Pooja</td><td>Mehta</td><td>user109@example.com</td><td>Delhi</td><td>2024-04-01</td><td>Desk Organizer</td><td>Accessories</td><td>399.0</td><td>Mega Plaza</td><td>Chennai</td><td>1995.0</td></tr><tr><td>2</td><td>7</td><td>110</td><td>7</td><td>5</td><td>2025-01-01</td><td>Deepak</td><td>Nair</td><td>user110@example.com</td><td>Mumbai</td><td>2023-10-14</td><td>Smartwatch</td><td>Electronics</td><td>4999.0</td><td>High Street Store</td><td>Delhi</td><td>24995.0</td></tr><tr><td>3</td><td>7</td><td>110</td><td>6</td><td>5</td><td>2025-01-04</td><td>Deepak</td><td>Nair</td><td>user110@example.com</td><td>Mumbai</td><td>2023-10-14</td><td>Smartwatch</td><td>Electronics</td><td>4999.0</td><td>Tech World Outlet</td><td>Bangalore</td><td>24995.0</td></tr><tr><td>4</td><td>8</td><td>116</td><td>30</td><td>5</td><td>2025-03-16</td><td>Rakesh</td><td>Kapoor</td><td>user116@example.com</td><td>Kolkata</td><td>2023-06-15</td><td>Desk Organizer</td><td>Accessories</td><td>399.0</td><td>Downtown Mini Store</td><td>Pune</td><td>1995.0</td></tr><tr><td>4</td><td>8</td><td>116</td><td>25</td><td>5</td><td>2024-12-13</td><td>Rakesh</td><td>Kapoor</td><td>user116@example.com</td><td>Kolkata</td><td>2023-06-15</td><td>Desk Organizer</td><td>Accessories</td><td>399.0</td><td>Downtown Mini Store</td><td>Pune</td><td>1995.0</td></tr><tr><td>4</td><td>8</td><td>116</td><td>19</td><td>4</td><td>2024-07-14</td><td>Rakesh</td><td>Kapoor</td><td>user116@example.com</td><td>Kolkata</td><td>2023-06-15</td><td>Desk Organizer</td><td>Accessories</td><td>399.0</td><td>Downtown Mini Store</td><td>Pune</td><td>1596.0</td></tr><tr><td>2</td><td>2</td><td>116</td><td>3</td><td>3</td><td>2025-05-01</td><td>Rakesh</td><td>Kapoor</td><td>user116@example.com</td><td>Kolkata</td><td>2023-06-15</td><td>Bluetooth Speaker</td><td>Electronics</td><td>1299.49</td><td>High Street Store</td><td>Delhi</td><td>3898.4700000000003</td></tr><tr><td>2</td><td>6</td><td>118</td><td>16</td><td>4</td><td>2024-11-29</td><td>Vikram</td><td>Mehta</td><td>user118@example.com</td><td>Mumbai</td><td>2023-04-22</td><td>Water Bottle</td><td>Fitness</td><td>299.0</td><td>High Street Store</td><td>Delhi</td><td>1196.0</td></tr><tr><td>4</td><td>9</td><td>119</td><td>29</td><td>2</td><td>2025-06-03</td><td>Kunal</td><td>Nair</td><td>user119@example.com</td><td>Bangalore</td><td>2023-08-10</td><td>Dumbbell Set</td><td>Fitness</td><td>1999.0</td><td>Downtown Mini Store</td><td>Pune</td><td>3998.0</td></tr><tr><td>4</td><td>1</td><td>120</td><td>14</td><td>5</td><td>2024-07-17</td><td>Alka</td><td>Mishra</td><td>user120@example.com</td><td>Hyderabad</td><td>2023-12-01</td><td>Wireless Mouse</td><td>Electronics</td><td>799.99</td><td>Downtown Mini Store</td><td>Pune</td><td>3999.95</td></tr><tr><td>1</td><td>8</td><td>120</td><td>4</td><td>1</td><td>2024-11-02</td><td>Alka</td><td>Mishra</td><td>user120@example.com</td><td>Hyderabad</td><td>2023-12-01</td><td>Desk Organizer</td><td>Accessories</td><td>399.0</td><td>City Mall Store</td><td>Mumbai</td><td>399.0</td></tr><tr><td>5</td><td>6</td><td>121</td><td>15</td><td>5</td><td>2025-05-19</td><td>Sanjay</td><td>Patel</td><td>user121@example.com</td><td>Chennai</td><td>2024-01-10</td><td>Water Bottle</td><td>Fitness</td><td>299.0</td><td>Mega Plaza</td><td>Chennai</td><td>1495.0</td></tr><tr><td>4</td><td>9</td><td>122</td><td>23</td><td>2</td><td>2025-04-30</td><td>Tina</td><td>Kapoor</td><td>user122@example.com</td><td>Pune</td><td>2023-09-20</td><td>Dumbbell Set</td><td>Fitness</td><td>1999.0</td><td>Downtown Mini Store</td><td>Pune</td><td>3998.0</td></tr><tr><td>3</td><td>1</td><td>123</td><td>9</td><td>2</td><td>2024-10-08</td><td>Arjun</td><td>Yadav</td><td>user123@example.com</td><td>Ahmedabad</td><td>2024-02-25</td><td>Wireless Mouse</td><td>Electronics</td><td>799.99</td><td>Tech World Outlet</td><td>Bangalore</td><td>1599.98</td></tr><tr><td>2</td><td>2</td><td>124</td><td>10</td><td>5</td><td>2024-08-27</td><td>Kavita</td><td>Sharma</td><td>user124@example.com</td><td>Kolkata</td><td>2023-11-15</td><td>Bluetooth Speaker</td><td>Electronics</td><td>1299.49</td><td>High Street Store</td><td>Delhi</td><td>6497.45</td></tr><tr><td>5</td><td>1</td><td>125</td><td>24</td><td>1</td><td>2024-07-14</td><td>Tarun</td><td>Verma</td><td>user125@example.com</td><td>Delhi</td><td>2024-04-05</td><td>Wireless Mouse</td><td>Electronics</td><td>799.99</td><td>Mega Plaza</td><td>Chennai</td><td>799.99</td></tr><tr><td>2</td><td>6</td><td>126</td><td>26</td><td>2</td><td>2024-09-21</td><td>Bhavna</td><td>Nair</td><td>user126@example.com</td><td>Mumbai</td><td>2023-07-17</td><td>Water Bottle</td><td>Fitness</td><td>299.0</td><td>High Street Store</td><td>Delhi</td><td>598.0</td></tr><tr><td>5</td><td>7</td><td>126</td><td>8</td><td>2</td><td>2025-06-08</td><td>Bhavna</td><td>Nair</td><td>user126@example.com</td><td>Mumbai</td><td>2023-07-17</td><td>Smartwatch</td><td>Electronics</td><td>4999.0</td><td>Mega Plaza</td><td>Chennai</td><td>9998.0</td></tr><tr><td>1</td><td>8</td><td>127</td><td>27</td><td>1</td><td>2024-10-10</td><td>Rohit</td><td>Mehta</td><td>user127@example.com</td><td>Bangalore</td><td>2023-08-30</td><td>Desk Organizer</td><td>Accessories</td><td>399.0</td><td>City Mall Store</td><td>Mumbai</td><td>399.0</td></tr><tr><td>4</td><td>8</td><td>127</td><td>1</td><td>4</td><td>2025-03-31</td><td>Rohit</td><td>Mehta</td><td>user127@example.com</td><td>Bangalore</td><td>2023-08-30</td><td>Desk Organizer</td><td>Accessories</td><td>399.0</td><td>Downtown Mini Store</td><td>Pune</td><td>1596.0</td></tr><tr><td>1</td><td>5</td><td>130</td><td>20</td><td>2</td><td>2024-07-30</td><td>Tanvi</td><td>Kapoor</td><td>user130@example.com</td><td>Pune</td><td>2023-12-22</td><td>Notebook Set</td><td>Stationery</td><td>149.0</td><td>City Mall Store</td><td>Mumbai</td><td>298.0</td></tr></tbody></table></div>"
      ]
     },
     "metadata": {
      "application/vnd.databricks.v1+output": {
       "addedWidgets": {},
       "aggData": [],
       "aggError": "",
       "aggOverflow": false,
       "aggSchema": [],
       "aggSeriesLimitReached": false,
       "aggType": "",
       "arguments": {},
       "columnCustomDisplayInfos": {},
       "data": [
        [
         5,
         7,
         101,
         28,
         3,
         "2024-11-15",
         "Ravi",
         "Yadav",
         "user101@example.com",
         "Delhi",
         "2023-09-14",
         "Smartwatch",
         "Electronics",
         4999.0,
         "Mega Plaza",
         "Chennai",
         14997.0
        ],
        [
         3,
         1,
         102,
         11,
         2,
         "2024-08-11",
         "Nina",
         "Joshi",
         "user102@example.com",
         "Mumbai",
         "2024-01-21",
         "Wireless Mouse",
         "Electronics",
         799.99,
         "Tech World Outlet",
         "Bangalore",
         1599.98
        ],
        [
         4,
         1,
         103,
         18,
         3,
         "2024-09-05",
         "Sonal",
         "Sharma",
         "user103@example.com",
         "Bangalore",
         "2023-07-10",
         "Wireless Mouse",
         "Electronics",
         799.99,
         "Downtown Mini Store",
         "Pune",
         2399.9700000000003
        ],
        [
         3,
         3,
         104,
         13,
         4,
         "2025-05-04",
         "Karan",
         "Patel",
         "user104@example.com",
         "Hyderabad",
         "2024-02-05",
         "Yoga Mat",
         "Fitness",
         499.0,
         "Tech World Outlet",
         "Bangalore",
         1996.0
        ],
        [
         3,
         1,
         105,
         21,
         5,
         "2024-10-02",
         "Riya",
         "Singh",
         "user105@example.com",
         "Chennai",
         "2023-06-28",
         "Wireless Mouse",
         "Electronics",
         799.99,
         "Tech World Outlet",
         "Bangalore",
         3999.95
        ],
        [
         2,
         5,
         105,
         5,
         1,
         "2025-03-17",
         "Riya",
         "Singh",
         "user105@example.com",
         "Chennai",
         "2023-06-28",
         "Notebook Set",
         "Stationery",
         149.0,
         "High Street Store",
         "Delhi",
         149.0
        ],
        [
         4,
         3,
         105,
         2,
         5,
         "2024-11-12",
         "Riya",
         "Singh",
         "user105@example.com",
         "Chennai",
         "2023-06-28",
         "Yoga Mat",
         "Fitness",
         499.0,
         "Downtown Mini Store",
         "Pune",
         2495.0
        ],
        [
         3,
         9,
         107,
         22,
         4,
         "2024-11-16",
         "Priya",
         "Kapoor",
         "user107@example.com",
         "Ahmedabad",
         "2023-05-12",
         "Dumbbell Set",
         "Fitness",
         1999.0,
         "Tech World Outlet",
         "Bangalore",
         7996.0
        ],
        [
         1,
         5,
         108,
         12,
         4,
         "2025-05-26",
         "Rahul",
         "Verma",
         "user108@example.com",
         "Kolkata",
         "2023-08-19",
         "Notebook Set",
         "Stationery",
         149.0,
         "City Mall Store",
         "Mumbai",
         596.0
        ],
        [
         5,
         8,
         109,
         17,
         5,
         "2024-07-10",
         "Pooja",
         "Mehta",
         "user109@example.com",
         "Delhi",
         "2024-04-01",
         "Desk Organizer",
         "Accessories",
         399.0,
         "Mega Plaza",
         "Chennai",
         1995.0
        ],
        [
         2,
         7,
         110,
         7,
         5,
         "2025-01-01",
         "Deepak",
         "Nair",
         "user110@example.com",
         "Mumbai",
         "2023-10-14",
         "Smartwatch",
         "Electronics",
         4999.0,
         "High Street Store",
         "Delhi",
         24995.0
        ],
        [
         3,
         7,
         110,
         6,
         5,
         "2025-01-04",
         "Deepak",
         "Nair",
         "user110@example.com",
         "Mumbai",
         "2023-10-14",
         "Smartwatch",
         "Electronics",
         4999.0,
         "Tech World Outlet",
         "Bangalore",
         24995.0
        ],
        [
         4,
         8,
         116,
         30,
         5,
         "2025-03-16",
         "Rakesh",
         "Kapoor",
         "user116@example.com",
         "Kolkata",
         "2023-06-15",
         "Desk Organizer",
         "Accessories",
         399.0,
         "Downtown Mini Store",
         "Pune",
         1995.0
        ],
        [
         4,
         8,
         116,
         25,
         5,
         "2024-12-13",
         "Rakesh",
         "Kapoor",
         "user116@example.com",
         "Kolkata",
         "2023-06-15",
         "Desk Organizer",
         "Accessories",
         399.0,
         "Downtown Mini Store",
         "Pune",
         1995.0
        ],
        [
         4,
         8,
         116,
         19,
         4,
         "2024-07-14",
         "Rakesh",
         "Kapoor",
         "user116@example.com",
         "Kolkata",
         "2023-06-15",
         "Desk Organizer",
         "Accessories",
         399.0,
         "Downtown Mini Store",
         "Pune",
         1596.0
        ],
        [
         2,
         2,
         116,
         3,
         3,
         "2025-05-01",
         "Rakesh",
         "Kapoor",
         "user116@example.com",
         "Kolkata",
         "2023-06-15",
         "Bluetooth Speaker",
         "Electronics",
         1299.49,
         "High Street Store",
         "Delhi",
         3898.4700000000003
        ],
        [
         2,
         6,
         118,
         16,
         4,
         "2024-11-29",
         "Vikram",
         "Mehta",
         "user118@example.com",
         "Mumbai",
         "2023-04-22",
         "Water Bottle",
         "Fitness",
         299.0,
         "High Street Store",
         "Delhi",
         1196.0
        ],
        [
         4,
         9,
         119,
         29,
         2,
         "2025-06-03",
         "Kunal",
         "Nair",
         "user119@example.com",
         "Bangalore",
         "2023-08-10",
         "Dumbbell Set",
         "Fitness",
         1999.0,
         "Downtown Mini Store",
         "Pune",
         3998.0
        ],
        [
         4,
         1,
         120,
         14,
         5,
         "2024-07-17",
         "Alka",
         "Mishra",
         "user120@example.com",
         "Hyderabad",
         "2023-12-01",
         "Wireless Mouse",
         "Electronics",
         799.99,
         "Downtown Mini Store",
         "Pune",
         3999.95
        ],
        [
         1,
         8,
         120,
         4,
         1,
         "2024-11-02",
         "Alka",
         "Mishra",
         "user120@example.com",
         "Hyderabad",
         "2023-12-01",
         "Desk Organizer",
         "Accessories",
         399.0,
         "City Mall Store",
         "Mumbai",
         399.0
        ],
        [
         5,
         6,
         121,
         15,
         5,
         "2025-05-19",
         "Sanjay",
         "Patel",
         "user121@example.com",
         "Chennai",
         "2024-01-10",
         "Water Bottle",
         "Fitness",
         299.0,
         "Mega Plaza",
         "Chennai",
         1495.0
        ],
        [
         4,
         9,
         122,
         23,
         2,
         "2025-04-30",
         "Tina",
         "Kapoor",
         "user122@example.com",
         "Pune",
         "2023-09-20",
         "Dumbbell Set",
         "Fitness",
         1999.0,
         "Downtown Mini Store",
         "Pune",
         3998.0
        ],
        [
         3,
         1,
         123,
         9,
         2,
         "2024-10-08",
         "Arjun",
         "Yadav",
         "user123@example.com",
         "Ahmedabad",
         "2024-02-25",
         "Wireless Mouse",
         "Electronics",
         799.99,
         "Tech World Outlet",
         "Bangalore",
         1599.98
        ],
        [
         2,
         2,
         124,
         10,
         5,
         "2024-08-27",
         "Kavita",
         "Sharma",
         "user124@example.com",
         "Kolkata",
         "2023-11-15",
         "Bluetooth Speaker",
         "Electronics",
         1299.49,
         "High Street Store",
         "Delhi",
         6497.45
        ],
        [
         5,
         1,
         125,
         24,
         1,
         "2024-07-14",
         "Tarun",
         "Verma",
         "user125@example.com",
         "Delhi",
         "2024-04-05",
         "Wireless Mouse",
         "Electronics",
         799.99,
         "Mega Plaza",
         "Chennai",
         799.99
        ],
        [
         2,
         6,
         126,
         26,
         2,
         "2024-09-21",
         "Bhavna",
         "Nair",
         "user126@example.com",
         "Mumbai",
         "2023-07-17",
         "Water Bottle",
         "Fitness",
         299.0,
         "High Street Store",
         "Delhi",
         598.0
        ],
        [
         5,
         7,
         126,
         8,
         2,
         "2025-06-08",
         "Bhavna",
         "Nair",
         "user126@example.com",
         "Mumbai",
         "2023-07-17",
         "Smartwatch",
         "Electronics",
         4999.0,
         "Mega Plaza",
         "Chennai",
         9998.0
        ],
        [
         1,
         8,
         127,
         27,
         1,
         "2024-10-10",
         "Rohit",
         "Mehta",
         "user127@example.com",
         "Bangalore",
         "2023-08-30",
         "Desk Organizer",
         "Accessories",
         399.0,
         "City Mall Store",
         "Mumbai",
         399.0
        ],
        [
         4,
         8,
         127,
         1,
         4,
         "2025-03-31",
         "Rohit",
         "Mehta",
         "user127@example.com",
         "Bangalore",
         "2023-08-30",
         "Desk Organizer",
         "Accessories",
         399.0,
         "Downtown Mini Store",
         "Pune",
         1596.0
        ],
        [
         1,
         5,
         130,
         20,
         2,
         "2024-07-30",
         "Tanvi",
         "Kapoor",
         "user130@example.com",
         "Pune",
         "2023-12-22",
         "Notebook Set",
         "Stationery",
         149.0,
         "City Mall Store",
         "Mumbai",
         298.0
        ]
       ],
       "datasetInfos": [],
       "dbfsResultPath": null,
       "isJsonSchema": true,
       "metadata": {},
       "overflow": false,
       "plotOptions": {
        "customPlotOptions": {},
        "displayType": "table",
        "pivotAggregation": null,
        "pivotColumns": null,
        "xColumns": null,
        "yColumns": null
       },
       "removedWidgets": [],
       "schema": [
        {
         "metadata": "{}",
         "name": "store_id",
         "type": "\"integer\""
        },
        {
         "metadata": "{}",
         "name": "product_id",
         "type": "\"integer\""
        },
        {
         "metadata": "{}",
         "name": "customer_id",
         "type": "\"integer\""
        },
        {
         "metadata": "{}",
         "name": "transaction_id",
         "type": "\"integer\""
        },
        {
         "metadata": "{}",
         "name": "quantity",
         "type": "\"integer\""
        },
        {
         "metadata": "{}",
         "name": "transaction_date",
         "type": "\"date\""
        },
        {
         "metadata": "{}",
         "name": "first_name",
         "type": "\"string\""
        },
        {
         "metadata": "{}",
         "name": "last_name",
         "type": "\"string\""
        },
        {
         "metadata": "{}",
         "name": "email",
         "type": "\"string\""
        },
        {
         "metadata": "{}",
         "name": "city",
         "type": "\"string\""
        },
        {
         "metadata": "{}",
         "name": "registration_date",
         "type": "\"string\""
        },
        {
         "metadata": "{}",
         "name": "product_name",
         "type": "\"string\""
        },
        {
         "metadata": "{}",
         "name": "category",
         "type": "\"string\""
        },
        {
         "metadata": "{}",
         "name": "price",
         "type": "\"double\""
        },
        {
         "metadata": "{}",
         "name": "store_name",
         "type": "\"string\""
        },
        {
         "metadata": "{}",
         "name": "location",
         "type": "\"string\""
        },
        {
         "metadata": "{}",
         "name": "total_amount",
         "type": "\"double\""
        }
       ],
       "type": "table"
      }
     },
     "output_type": "display_data"
    }
   ],
   "source": [
    "display(spark.read.format(\"delta\").load(\"/mnt/store_project/silver/\"))"
   ]
  },
  {
   "cell_type": "code",
   "execution_count": 0,
   "metadata": {
    "application/vnd.databricks.v1+cell": {
     "cellMetadata": {
      "byteLimit": 2048000,
      "rowLimit": 10000
     },
     "inputWidgets": {},
     "nuid": "836f50c4-f1da-4c1a-8b13-07a0c3dd0e20",
     "showTitle": false,
     "tableResultSettingsMap": {
      "0": {
       "dataGridStateBlob": "{\"version\":1,\"tableState\":{\"columnPinning\":{\"left\":[\"#row_number#\"],\"right\":[]},\"columnSizing\":{\"path\":654},\"columnVisibility\":{}},\"settings\":{\"columns\":{}},\"syncTimestamp\":1758949606824}",
       "filterBlob": null,
       "queryPlanFiltersBlob": null,
       "tableResultIndex": 0
      }
     },
     "title": ""
    }
   },
   "outputs": [
    {
     "output_type": "display_data",
     "data": {
      "text/html": [
       "<style scoped>\n",
       "  .table-result-container {\n",
       "    max-height: 300px;\n",
       "    overflow: auto;\n",
       "  }\n",
       "  table, th, td {\n",
       "    border: 1px solid black;\n",
       "    border-collapse: collapse;\n",
       "  }\n",
       "  th, td {\n",
       "    padding: 5px;\n",
       "  }\n",
       "  th {\n",
       "    text-align: left;\n",
       "  }\n",
       "</style><div class='table-result-container'><table class='table-result'><thead style='background-color: white'><tr><th>path</th><th>name</th><th>size</th><th>modificationTime</th></tr></thead><tbody><tr><td>dbfs:/mnt/store_project/silver/_delta_log/</td><td>_delta_log/</td><td>0</td><td>1758949893000</td></tr><tr><td>dbfs:/mnt/store_project/silver/part-00000-280e576a-1423-495d-bf80-8c45ee844220-c000.snappy.parquet</td><td>part-00000-280e576a-1423-495d-bf80-8c45ee844220-c000.snappy.parquet</td><td>7283</td><td>1758954779000</td></tr><tr><td>dbfs:/mnt/store_project/silver/part-00000-3e687638-ed57-463c-b5ef-14f0e7de217a-c000.snappy.parquet</td><td>part-00000-3e687638-ed57-463c-b5ef-14f0e7de217a-c000.snappy.parquet</td><td>7283</td><td>1758949894000</td></tr><tr><td>dbfs:/mnt/store_project/silver/part-00000-41f90a11-416a-44c8-b0cf-f1777e0ce8f3-c000.snappy.parquet</td><td>part-00000-41f90a11-416a-44c8-b0cf-f1777e0ce8f3-c000.snappy.parquet</td><td>7283</td><td>1758954023000</td></tr><tr><td>dbfs:/mnt/store_project/silver/part-00000-4894a09a-7e18-446f-b5ba-88e60c9760ce-c000.snappy.parquet</td><td>part-00000-4894a09a-7e18-446f-b5ba-88e60c9760ce-c000.snappy.parquet</td><td>7283</td><td>1758955570000</td></tr><tr><td>dbfs:/mnt/store_project/silver/part-00000-6c000b60-898d-42b7-b182-99f88908265a-c000.snappy.parquet</td><td>part-00000-6c000b60-898d-42b7-b182-99f88908265a-c000.snappy.parquet</td><td>7283</td><td>1758955265000</td></tr><tr><td>dbfs:/mnt/store_project/silver/part-00000-722596f2-e83c-4a4c-9f78-e7a0e68a405a-c000.snappy.parquet</td><td>part-00000-722596f2-e83c-4a4c-9f78-e7a0e68a405a-c000.snappy.parquet</td><td>7283</td><td>1758955209000</td></tr><tr><td>dbfs:/mnt/store_project/silver/part-00000-c27768a3-c9b6-4814-a864-d633cf4dda71-c000.snappy.parquet</td><td>part-00000-c27768a3-c9b6-4814-a864-d633cf4dda71-c000.snappy.parquet</td><td>7283</td><td>1758950632000</td></tr></tbody></table></div>"
      ]
     },
     "metadata": {
      "application/vnd.databricks.v1+output": {
       "addedWidgets": {},
       "aggData": [],
       "aggError": "",
       "aggOverflow": false,
       "aggSchema": [],
       "aggSeriesLimitReached": false,
       "aggType": "",
       "arguments": {},
       "columnCustomDisplayInfos": {},
       "data": [
        [
         "dbfs:/mnt/store_project/silver/_delta_log/",
         "_delta_log/",
         0,
         1758949893000
        ],
        [
         "dbfs:/mnt/store_project/silver/part-00000-280e576a-1423-495d-bf80-8c45ee844220-c000.snappy.parquet",
         "part-00000-280e576a-1423-495d-bf80-8c45ee844220-c000.snappy.parquet",
         7283,
         1758954779000
        ],
        [
         "dbfs:/mnt/store_project/silver/part-00000-3e687638-ed57-463c-b5ef-14f0e7de217a-c000.snappy.parquet",
         "part-00000-3e687638-ed57-463c-b5ef-14f0e7de217a-c000.snappy.parquet",
         7283,
         1758949894000
        ],
        [
         "dbfs:/mnt/store_project/silver/part-00000-41f90a11-416a-44c8-b0cf-f1777e0ce8f3-c000.snappy.parquet",
         "part-00000-41f90a11-416a-44c8-b0cf-f1777e0ce8f3-c000.snappy.parquet",
         7283,
         1758954023000
        ],
        [
         "dbfs:/mnt/store_project/silver/part-00000-4894a09a-7e18-446f-b5ba-88e60c9760ce-c000.snappy.parquet",
         "part-00000-4894a09a-7e18-446f-b5ba-88e60c9760ce-c000.snappy.parquet",
         7283,
         1758955570000
        ],
        [
         "dbfs:/mnt/store_project/silver/part-00000-6c000b60-898d-42b7-b182-99f88908265a-c000.snappy.parquet",
         "part-00000-6c000b60-898d-42b7-b182-99f88908265a-c000.snappy.parquet",
         7283,
         1758955265000
        ],
        [
         "dbfs:/mnt/store_project/silver/part-00000-722596f2-e83c-4a4c-9f78-e7a0e68a405a-c000.snappy.parquet",
         "part-00000-722596f2-e83c-4a4c-9f78-e7a0e68a405a-c000.snappy.parquet",
         7283,
         1758955209000
        ],
        [
         "dbfs:/mnt/store_project/silver/part-00000-c27768a3-c9b6-4814-a864-d633cf4dda71-c000.snappy.parquet",
         "part-00000-c27768a3-c9b6-4814-a864-d633cf4dda71-c000.snappy.parquet",
         7283,
         1758950632000
        ]
       ],
       "datasetInfos": [],
       "dbfsResultPath": null,
       "isJsonSchema": true,
       "metadata": {},
       "overflow": false,
       "plotOptions": {
        "customPlotOptions": {},
        "displayType": "table",
        "pivotAggregation": null,
        "pivotColumns": null,
        "xColumns": null,
        "yColumns": null
       },
       "removedWidgets": [],
       "schema": [
        {
         "metadata": "{}",
         "name": "path",
         "type": "\"string\""
        },
        {
         "metadata": "{}",
         "name": "name",
         "type": "\"string\""
        },
        {
         "metadata": "{}",
         "name": "size",
         "type": "\"long\""
        },
        {
         "metadata": "{}",
         "name": "modificationTime",
         "type": "\"long\""
        }
       ],
       "type": "table"
      }
     },
     "output_type": "display_data"
    }
   ],
   "source": [
    "display(dbutils.fs.ls(\"/mnt/store_project/silver/\"))"
   ]
  },
  {
   "cell_type": "code",
   "execution_count": 0,
   "metadata": {
    "application/vnd.databricks.v1+cell": {
     "cellMetadata": {
      "byteLimit": 2048000,
      "rowLimit": 10000
     },
     "inputWidgets": {},
     "nuid": "d42c1d8d-b819-4272-bf6d-9841cedb86be",
     "showTitle": false,
     "tableResultSettingsMap": {},
     "title": ""
    }
   },
   "outputs": [
    {
     "output_type": "display_data",
     "data": {
      "text/plain": [
       "'/mnt/storeanalytics/silver/'"
      ]
     },
     "metadata": {},
     "output_type": "display_data"
    }
   ],
   "source": [
    "display(silver_path)"
   ]
  },
  {
   "cell_type": "code",
   "execution_count": 0,
   "metadata": {
    "application/vnd.databricks.v1+cell": {
     "cellMetadata": {
      "byteLimit": 2048000,
      "implicitDf": true,
      "rowLimit": 10000
     },
     "inputWidgets": {},
     "nuid": "00190704-8a41-4afa-982f-680e1b72318b",
     "showTitle": true,
     "tableResultSettingsMap": {},
     "title": "# STEP 8: Use SQL to validate the data"
    }
   },
   "outputs": [
    {
     "output_type": "display_data",
     "data": {
      "text/html": [
       "<style scoped>\n",
       "  .table-result-container {\n",
       "    max-height: 300px;\n",
       "    overflow: auto;\n",
       "  }\n",
       "  table, th, td {\n",
       "    border: 1px solid black;\n",
       "    border-collapse: collapse;\n",
       "  }\n",
       "  th, td {\n",
       "    padding: 5px;\n",
       "  }\n",
       "  th {\n",
       "    text-align: left;\n",
       "  }\n",
       "</style><div class='table-result-container'><table class='table-result'><thead style='background-color: white'><tr><th>store_id</th><th>product_id</th><th>customer_id</th><th>transaction_id</th><th>quantity</th><th>transaction_date</th><th>first_name</th><th>last_name</th><th>email</th><th>city</th><th>registration_date</th><th>product_name</th><th>category</th><th>price</th><th>store_name</th><th>location</th><th>total_amount</th></tr></thead><tbody><tr><td>5</td><td>7</td><td>101</td><td>28</td><td>3</td><td>2024-11-15</td><td>Ravi</td><td>Yadav</td><td>user101@example.com</td><td>Delhi</td><td>2023-09-14</td><td>Smartwatch</td><td>Electronics</td><td>4999.0</td><td>Mega Plaza</td><td>Chennai</td><td>14997.0</td></tr><tr><td>3</td><td>1</td><td>102</td><td>11</td><td>2</td><td>2024-08-11</td><td>Nina</td><td>Joshi</td><td>user102@example.com</td><td>Mumbai</td><td>2024-01-21</td><td>Wireless Mouse</td><td>Electronics</td><td>799.99</td><td>Tech World Outlet</td><td>Bangalore</td><td>1599.98</td></tr><tr><td>4</td><td>1</td><td>103</td><td>18</td><td>3</td><td>2024-09-05</td><td>Sonal</td><td>Sharma</td><td>user103@example.com</td><td>Bangalore</td><td>2023-07-10</td><td>Wireless Mouse</td><td>Electronics</td><td>799.99</td><td>Downtown Mini Store</td><td>Pune</td><td>2399.9700000000003</td></tr><tr><td>3</td><td>3</td><td>104</td><td>13</td><td>4</td><td>2025-05-04</td><td>Karan</td><td>Patel</td><td>user104@example.com</td><td>Hyderabad</td><td>2024-02-05</td><td>Yoga Mat</td><td>Fitness</td><td>499.0</td><td>Tech World Outlet</td><td>Bangalore</td><td>1996.0</td></tr><tr><td>3</td><td>1</td><td>105</td><td>21</td><td>5</td><td>2024-10-02</td><td>Riya</td><td>Singh</td><td>user105@example.com</td><td>Chennai</td><td>2023-06-28</td><td>Wireless Mouse</td><td>Electronics</td><td>799.99</td><td>Tech World Outlet</td><td>Bangalore</td><td>3999.95</td></tr><tr><td>2</td><td>5</td><td>105</td><td>5</td><td>1</td><td>2025-03-17</td><td>Riya</td><td>Singh</td><td>user105@example.com</td><td>Chennai</td><td>2023-06-28</td><td>Notebook Set</td><td>Stationery</td><td>149.0</td><td>High Street Store</td><td>Delhi</td><td>149.0</td></tr><tr><td>4</td><td>3</td><td>105</td><td>2</td><td>5</td><td>2024-11-12</td><td>Riya</td><td>Singh</td><td>user105@example.com</td><td>Chennai</td><td>2023-06-28</td><td>Yoga Mat</td><td>Fitness</td><td>499.0</td><td>Downtown Mini Store</td><td>Pune</td><td>2495.0</td></tr><tr><td>3</td><td>9</td><td>107</td><td>22</td><td>4</td><td>2024-11-16</td><td>Priya</td><td>Kapoor</td><td>user107@example.com</td><td>Ahmedabad</td><td>2023-05-12</td><td>Dumbbell Set</td><td>Fitness</td><td>1999.0</td><td>Tech World Outlet</td><td>Bangalore</td><td>7996.0</td></tr><tr><td>1</td><td>5</td><td>108</td><td>12</td><td>4</td><td>2025-05-26</td><td>Rahul</td><td>Verma</td><td>user108@example.com</td><td>Kolkata</td><td>2023-08-19</td><td>Notebook Set</td><td>Stationery</td><td>149.0</td><td>City Mall Store</td><td>Mumbai</td><td>596.0</td></tr><tr><td>5</td><td>8</td><td>109</td><td>17</td><td>5</td><td>2024-07-10</td><td>Pooja</td><td>Mehta</td><td>user109@example.com</td><td>Delhi</td><td>2024-04-01</td><td>Desk Organizer</td><td>Accessories</td><td>399.0</td><td>Mega Plaza</td><td>Chennai</td><td>1995.0</td></tr><tr><td>2</td><td>7</td><td>110</td><td>7</td><td>5</td><td>2025-01-01</td><td>Deepak</td><td>Nair</td><td>user110@example.com</td><td>Mumbai</td><td>2023-10-14</td><td>Smartwatch</td><td>Electronics</td><td>4999.0</td><td>High Street Store</td><td>Delhi</td><td>24995.0</td></tr><tr><td>3</td><td>7</td><td>110</td><td>6</td><td>5</td><td>2025-01-04</td><td>Deepak</td><td>Nair</td><td>user110@example.com</td><td>Mumbai</td><td>2023-10-14</td><td>Smartwatch</td><td>Electronics</td><td>4999.0</td><td>Tech World Outlet</td><td>Bangalore</td><td>24995.0</td></tr><tr><td>4</td><td>8</td><td>116</td><td>30</td><td>5</td><td>2025-03-16</td><td>Rakesh</td><td>Kapoor</td><td>user116@example.com</td><td>Kolkata</td><td>2023-06-15</td><td>Desk Organizer</td><td>Accessories</td><td>399.0</td><td>Downtown Mini Store</td><td>Pune</td><td>1995.0</td></tr><tr><td>4</td><td>8</td><td>116</td><td>25</td><td>5</td><td>2024-12-13</td><td>Rakesh</td><td>Kapoor</td><td>user116@example.com</td><td>Kolkata</td><td>2023-06-15</td><td>Desk Organizer</td><td>Accessories</td><td>399.0</td><td>Downtown Mini Store</td><td>Pune</td><td>1995.0</td></tr><tr><td>4</td><td>8</td><td>116</td><td>19</td><td>4</td><td>2024-07-14</td><td>Rakesh</td><td>Kapoor</td><td>user116@example.com</td><td>Kolkata</td><td>2023-06-15</td><td>Desk Organizer</td><td>Accessories</td><td>399.0</td><td>Downtown Mini Store</td><td>Pune</td><td>1596.0</td></tr><tr><td>2</td><td>2</td><td>116</td><td>3</td><td>3</td><td>2025-05-01</td><td>Rakesh</td><td>Kapoor</td><td>user116@example.com</td><td>Kolkata</td><td>2023-06-15</td><td>Bluetooth Speaker</td><td>Electronics</td><td>1299.49</td><td>High Street Store</td><td>Delhi</td><td>3898.4700000000003</td></tr><tr><td>2</td><td>6</td><td>118</td><td>16</td><td>4</td><td>2024-11-29</td><td>Vikram</td><td>Mehta</td><td>user118@example.com</td><td>Mumbai</td><td>2023-04-22</td><td>Water Bottle</td><td>Fitness</td><td>299.0</td><td>High Street Store</td><td>Delhi</td><td>1196.0</td></tr><tr><td>4</td><td>9</td><td>119</td><td>29</td><td>2</td><td>2025-06-03</td><td>Kunal</td><td>Nair</td><td>user119@example.com</td><td>Bangalore</td><td>2023-08-10</td><td>Dumbbell Set</td><td>Fitness</td><td>1999.0</td><td>Downtown Mini Store</td><td>Pune</td><td>3998.0</td></tr><tr><td>4</td><td>1</td><td>120</td><td>14</td><td>5</td><td>2024-07-17</td><td>Alka</td><td>Mishra</td><td>user120@example.com</td><td>Hyderabad</td><td>2023-12-01</td><td>Wireless Mouse</td><td>Electronics</td><td>799.99</td><td>Downtown Mini Store</td><td>Pune</td><td>3999.95</td></tr><tr><td>1</td><td>8</td><td>120</td><td>4</td><td>1</td><td>2024-11-02</td><td>Alka</td><td>Mishra</td><td>user120@example.com</td><td>Hyderabad</td><td>2023-12-01</td><td>Desk Organizer</td><td>Accessories</td><td>399.0</td><td>City Mall Store</td><td>Mumbai</td><td>399.0</td></tr><tr><td>5</td><td>6</td><td>121</td><td>15</td><td>5</td><td>2025-05-19</td><td>Sanjay</td><td>Patel</td><td>user121@example.com</td><td>Chennai</td><td>2024-01-10</td><td>Water Bottle</td><td>Fitness</td><td>299.0</td><td>Mega Plaza</td><td>Chennai</td><td>1495.0</td></tr><tr><td>4</td><td>9</td><td>122</td><td>23</td><td>2</td><td>2025-04-30</td><td>Tina</td><td>Kapoor</td><td>user122@example.com</td><td>Pune</td><td>2023-09-20</td><td>Dumbbell Set</td><td>Fitness</td><td>1999.0</td><td>Downtown Mini Store</td><td>Pune</td><td>3998.0</td></tr><tr><td>3</td><td>1</td><td>123</td><td>9</td><td>2</td><td>2024-10-08</td><td>Arjun</td><td>Yadav</td><td>user123@example.com</td><td>Ahmedabad</td><td>2024-02-25</td><td>Wireless Mouse</td><td>Electronics</td><td>799.99</td><td>Tech World Outlet</td><td>Bangalore</td><td>1599.98</td></tr><tr><td>2</td><td>2</td><td>124</td><td>10</td><td>5</td><td>2024-08-27</td><td>Kavita</td><td>Sharma</td><td>user124@example.com</td><td>Kolkata</td><td>2023-11-15</td><td>Bluetooth Speaker</td><td>Electronics</td><td>1299.49</td><td>High Street Store</td><td>Delhi</td><td>6497.45</td></tr><tr><td>5</td><td>1</td><td>125</td><td>24</td><td>1</td><td>2024-07-14</td><td>Tarun</td><td>Verma</td><td>user125@example.com</td><td>Delhi</td><td>2024-04-05</td><td>Wireless Mouse</td><td>Electronics</td><td>799.99</td><td>Mega Plaza</td><td>Chennai</td><td>799.99</td></tr><tr><td>2</td><td>6</td><td>126</td><td>26</td><td>2</td><td>2024-09-21</td><td>Bhavna</td><td>Nair</td><td>user126@example.com</td><td>Mumbai</td><td>2023-07-17</td><td>Water Bottle</td><td>Fitness</td><td>299.0</td><td>High Street Store</td><td>Delhi</td><td>598.0</td></tr><tr><td>5</td><td>7</td><td>126</td><td>8</td><td>2</td><td>2025-06-08</td><td>Bhavna</td><td>Nair</td><td>user126@example.com</td><td>Mumbai</td><td>2023-07-17</td><td>Smartwatch</td><td>Electronics</td><td>4999.0</td><td>Mega Plaza</td><td>Chennai</td><td>9998.0</td></tr><tr><td>1</td><td>8</td><td>127</td><td>27</td><td>1</td><td>2024-10-10</td><td>Rohit</td><td>Mehta</td><td>user127@example.com</td><td>Bangalore</td><td>2023-08-30</td><td>Desk Organizer</td><td>Accessories</td><td>399.0</td><td>City Mall Store</td><td>Mumbai</td><td>399.0</td></tr><tr><td>4</td><td>8</td><td>127</td><td>1</td><td>4</td><td>2025-03-31</td><td>Rohit</td><td>Mehta</td><td>user127@example.com</td><td>Bangalore</td><td>2023-08-30</td><td>Desk Organizer</td><td>Accessories</td><td>399.0</td><td>Downtown Mini Store</td><td>Pune</td><td>1596.0</td></tr><tr><td>1</td><td>5</td><td>130</td><td>20</td><td>2</td><td>2024-07-30</td><td>Tanvi</td><td>Kapoor</td><td>user130@example.com</td><td>Pune</td><td>2023-12-22</td><td>Notebook Set</td><td>Stationery</td><td>149.0</td><td>City Mall Store</td><td>Mumbai</td><td>298.0</td></tr></tbody></table></div>"
      ]
     },
     "metadata": {
      "application/vnd.databricks.v1+output": {
       "addedWidgets": {},
       "aggData": [],
       "aggError": "",
       "aggOverflow": false,
       "aggSchema": [],
       "aggSeriesLimitReached": false,
       "aggType": "",
       "arguments": {},
       "columnCustomDisplayInfos": {},
       "data": [
        [
         5,
         7,
         101,
         28,
         3,
         "2024-11-15",
         "Ravi",
         "Yadav",
         "user101@example.com",
         "Delhi",
         "2023-09-14",
         "Smartwatch",
         "Electronics",
         4999.0,
         "Mega Plaza",
         "Chennai",
         14997.0
        ],
        [
         3,
         1,
         102,
         11,
         2,
         "2024-08-11",
         "Nina",
         "Joshi",
         "user102@example.com",
         "Mumbai",
         "2024-01-21",
         "Wireless Mouse",
         "Electronics",
         799.99,
         "Tech World Outlet",
         "Bangalore",
         1599.98
        ],
        [
         4,
         1,
         103,
         18,
         3,
         "2024-09-05",
         "Sonal",
         "Sharma",
         "user103@example.com",
         "Bangalore",
         "2023-07-10",
         "Wireless Mouse",
         "Electronics",
         799.99,
         "Downtown Mini Store",
         "Pune",
         2399.9700000000003
        ],
        [
         3,
         3,
         104,
         13,
         4,
         "2025-05-04",
         "Karan",
         "Patel",
         "user104@example.com",
         "Hyderabad",
         "2024-02-05",
         "Yoga Mat",
         "Fitness",
         499.0,
         "Tech World Outlet",
         "Bangalore",
         1996.0
        ],
        [
         3,
         1,
         105,
         21,
         5,
         "2024-10-02",
         "Riya",
         "Singh",
         "user105@example.com",
         "Chennai",
         "2023-06-28",
         "Wireless Mouse",
         "Electronics",
         799.99,
         "Tech World Outlet",
         "Bangalore",
         3999.95
        ],
        [
         2,
         5,
         105,
         5,
         1,
         "2025-03-17",
         "Riya",
         "Singh",
         "user105@example.com",
         "Chennai",
         "2023-06-28",
         "Notebook Set",
         "Stationery",
         149.0,
         "High Street Store",
         "Delhi",
         149.0
        ],
        [
         4,
         3,
         105,
         2,
         5,
         "2024-11-12",
         "Riya",
         "Singh",
         "user105@example.com",
         "Chennai",
         "2023-06-28",
         "Yoga Mat",
         "Fitness",
         499.0,
         "Downtown Mini Store",
         "Pune",
         2495.0
        ],
        [
         3,
         9,
         107,
         22,
         4,
         "2024-11-16",
         "Priya",
         "Kapoor",
         "user107@example.com",
         "Ahmedabad",
         "2023-05-12",
         "Dumbbell Set",
         "Fitness",
         1999.0,
         "Tech World Outlet",
         "Bangalore",
         7996.0
        ],
        [
         1,
         5,
         108,
         12,
         4,
         "2025-05-26",
         "Rahul",
         "Verma",
         "user108@example.com",
         "Kolkata",
         "2023-08-19",
         "Notebook Set",
         "Stationery",
         149.0,
         "City Mall Store",
         "Mumbai",
         596.0
        ],
        [
         5,
         8,
         109,
         17,
         5,
         "2024-07-10",
         "Pooja",
         "Mehta",
         "user109@example.com",
         "Delhi",
         "2024-04-01",
         "Desk Organizer",
         "Accessories",
         399.0,
         "Mega Plaza",
         "Chennai",
         1995.0
        ],
        [
         2,
         7,
         110,
         7,
         5,
         "2025-01-01",
         "Deepak",
         "Nair",
         "user110@example.com",
         "Mumbai",
         "2023-10-14",
         "Smartwatch",
         "Electronics",
         4999.0,
         "High Street Store",
         "Delhi",
         24995.0
        ],
        [
         3,
         7,
         110,
         6,
         5,
         "2025-01-04",
         "Deepak",
         "Nair",
         "user110@example.com",
         "Mumbai",
         "2023-10-14",
         "Smartwatch",
         "Electronics",
         4999.0,
         "Tech World Outlet",
         "Bangalore",
         24995.0
        ],
        [
         4,
         8,
         116,
         30,
         5,
         "2025-03-16",
         "Rakesh",
         "Kapoor",
         "user116@example.com",
         "Kolkata",
         "2023-06-15",
         "Desk Organizer",
         "Accessories",
         399.0,
         "Downtown Mini Store",
         "Pune",
         1995.0
        ],
        [
         4,
         8,
         116,
         25,
         5,
         "2024-12-13",
         "Rakesh",
         "Kapoor",
         "user116@example.com",
         "Kolkata",
         "2023-06-15",
         "Desk Organizer",
         "Accessories",
         399.0,
         "Downtown Mini Store",
         "Pune",
         1995.0
        ],
        [
         4,
         8,
         116,
         19,
         4,
         "2024-07-14",
         "Rakesh",
         "Kapoor",
         "user116@example.com",
         "Kolkata",
         "2023-06-15",
         "Desk Organizer",
         "Accessories",
         399.0,
         "Downtown Mini Store",
         "Pune",
         1596.0
        ],
        [
         2,
         2,
         116,
         3,
         3,
         "2025-05-01",
         "Rakesh",
         "Kapoor",
         "user116@example.com",
         "Kolkata",
         "2023-06-15",
         "Bluetooth Speaker",
         "Electronics",
         1299.49,
         "High Street Store",
         "Delhi",
         3898.4700000000003
        ],
        [
         2,
         6,
         118,
         16,
         4,
         "2024-11-29",
         "Vikram",
         "Mehta",
         "user118@example.com",
         "Mumbai",
         "2023-04-22",
         "Water Bottle",
         "Fitness",
         299.0,
         "High Street Store",
         "Delhi",
         1196.0
        ],
        [
         4,
         9,
         119,
         29,
         2,
         "2025-06-03",
         "Kunal",
         "Nair",
         "user119@example.com",
         "Bangalore",
         "2023-08-10",
         "Dumbbell Set",
         "Fitness",
         1999.0,
         "Downtown Mini Store",
         "Pune",
         3998.0
        ],
        [
         4,
         1,
         120,
         14,
         5,
         "2024-07-17",
         "Alka",
         "Mishra",
         "user120@example.com",
         "Hyderabad",
         "2023-12-01",
         "Wireless Mouse",
         "Electronics",
         799.99,
         "Downtown Mini Store",
         "Pune",
         3999.95
        ],
        [
         1,
         8,
         120,
         4,
         1,
         "2024-11-02",
         "Alka",
         "Mishra",
         "user120@example.com",
         "Hyderabad",
         "2023-12-01",
         "Desk Organizer",
         "Accessories",
         399.0,
         "City Mall Store",
         "Mumbai",
         399.0
        ],
        [
         5,
         6,
         121,
         15,
         5,
         "2025-05-19",
         "Sanjay",
         "Patel",
         "user121@example.com",
         "Chennai",
         "2024-01-10",
         "Water Bottle",
         "Fitness",
         299.0,
         "Mega Plaza",
         "Chennai",
         1495.0
        ],
        [
         4,
         9,
         122,
         23,
         2,
         "2025-04-30",
         "Tina",
         "Kapoor",
         "user122@example.com",
         "Pune",
         "2023-09-20",
         "Dumbbell Set",
         "Fitness",
         1999.0,
         "Downtown Mini Store",
         "Pune",
         3998.0
        ],
        [
         3,
         1,
         123,
         9,
         2,
         "2024-10-08",
         "Arjun",
         "Yadav",
         "user123@example.com",
         "Ahmedabad",
         "2024-02-25",
         "Wireless Mouse",
         "Electronics",
         799.99,
         "Tech World Outlet",
         "Bangalore",
         1599.98
        ],
        [
         2,
         2,
         124,
         10,
         5,
         "2024-08-27",
         "Kavita",
         "Sharma",
         "user124@example.com",
         "Kolkata",
         "2023-11-15",
         "Bluetooth Speaker",
         "Electronics",
         1299.49,
         "High Street Store",
         "Delhi",
         6497.45
        ],
        [
         5,
         1,
         125,
         24,
         1,
         "2024-07-14",
         "Tarun",
         "Verma",
         "user125@example.com",
         "Delhi",
         "2024-04-05",
         "Wireless Mouse",
         "Electronics",
         799.99,
         "Mega Plaza",
         "Chennai",
         799.99
        ],
        [
         2,
         6,
         126,
         26,
         2,
         "2024-09-21",
         "Bhavna",
         "Nair",
         "user126@example.com",
         "Mumbai",
         "2023-07-17",
         "Water Bottle",
         "Fitness",
         299.0,
         "High Street Store",
         "Delhi",
         598.0
        ],
        [
         5,
         7,
         126,
         8,
         2,
         "2025-06-08",
         "Bhavna",
         "Nair",
         "user126@example.com",
         "Mumbai",
         "2023-07-17",
         "Smartwatch",
         "Electronics",
         4999.0,
         "Mega Plaza",
         "Chennai",
         9998.0
        ],
        [
         1,
         8,
         127,
         27,
         1,
         "2024-10-10",
         "Rohit",
         "Mehta",
         "user127@example.com",
         "Bangalore",
         "2023-08-30",
         "Desk Organizer",
         "Accessories",
         399.0,
         "City Mall Store",
         "Mumbai",
         399.0
        ],
        [
         4,
         8,
         127,
         1,
         4,
         "2025-03-31",
         "Rohit",
         "Mehta",
         "user127@example.com",
         "Bangalore",
         "2023-08-30",
         "Desk Organizer",
         "Accessories",
         399.0,
         "Downtown Mini Store",
         "Pune",
         1596.0
        ],
        [
         1,
         5,
         130,
         20,
         2,
         "2024-07-30",
         "Tanvi",
         "Kapoor",
         "user130@example.com",
         "Pune",
         "2023-12-22",
         "Notebook Set",
         "Stationery",
         149.0,
         "City Mall Store",
         "Mumbai",
         298.0
        ]
       ],
       "datasetInfos": [
        {
         "name": "_sqldf",
         "schema": {
          "fields": [
           {
            "metadata": {},
            "name": "store_id",
            "nullable": true,
            "type": "integer"
           },
           {
            "metadata": {},
            "name": "product_id",
            "nullable": true,
            "type": "integer"
           },
           {
            "metadata": {},
            "name": "customer_id",
            "nullable": true,
            "type": "integer"
           },
           {
            "metadata": {},
            "name": "transaction_id",
            "nullable": true,
            "type": "integer"
           },
           {
            "metadata": {},
            "name": "quantity",
            "nullable": true,
            "type": "integer"
           },
           {
            "metadata": {},
            "name": "transaction_date",
            "nullable": true,
            "type": "date"
           },
           {
            "metadata": {},
            "name": "first_name",
            "nullable": true,
            "type": "string"
           },
           {
            "metadata": {},
            "name": "last_name",
            "nullable": true,
            "type": "string"
           },
           {
            "metadata": {},
            "name": "email",
            "nullable": true,
            "type": "string"
           },
           {
            "metadata": {},
            "name": "city",
            "nullable": true,
            "type": "string"
           },
           {
            "metadata": {},
            "name": "registration_date",
            "nullable": true,
            "type": "string"
           },
           {
            "metadata": {},
            "name": "product_name",
            "nullable": true,
            "type": "string"
           },
           {
            "metadata": {},
            "name": "category",
            "nullable": true,
            "type": "string"
           },
           {
            "metadata": {},
            "name": "price",
            "nullable": true,
            "type": "double"
           },
           {
            "metadata": {},
            "name": "store_name",
            "nullable": true,
            "type": "string"
           },
           {
            "metadata": {},
            "name": "location",
            "nullable": true,
            "type": "string"
           },
           {
            "metadata": {},
            "name": "total_amount",
            "nullable": true,
            "type": "double"
           }
          ],
          "type": "struct"
         },
         "tableIdentifier": null,
         "typeStr": "pyspark.sql.dataframe.DataFrame"
        }
       ],
       "dbfsResultPath": null,
       "isJsonSchema": true,
       "metadata": {
        "createTempViewForImplicitDf": true,
        "dataframeName": "_sqldf",
        "executionCount": 140
       },
       "overflow": false,
       "plotOptions": {
        "customPlotOptions": {},
        "displayType": "table",
        "pivotAggregation": null,
        "pivotColumns": null,
        "xColumns": null,
        "yColumns": null
       },
       "removedWidgets": [],
       "schema": [
        {
         "metadata": "{}",
         "name": "store_id",
         "type": "\"integer\""
        },
        {
         "metadata": "{}",
         "name": "product_id",
         "type": "\"integer\""
        },
        {
         "metadata": "{}",
         "name": "customer_id",
         "type": "\"integer\""
        },
        {
         "metadata": "{}",
         "name": "transaction_id",
         "type": "\"integer\""
        },
        {
         "metadata": "{}",
         "name": "quantity",
         "type": "\"integer\""
        },
        {
         "metadata": "{}",
         "name": "transaction_date",
         "type": "\"date\""
        },
        {
         "metadata": "{}",
         "name": "first_name",
         "type": "\"string\""
        },
        {
         "metadata": "{}",
         "name": "last_name",
         "type": "\"string\""
        },
        {
         "metadata": "{}",
         "name": "email",
         "type": "\"string\""
        },
        {
         "metadata": "{}",
         "name": "city",
         "type": "\"string\""
        },
        {
         "metadata": "{}",
         "name": "registration_date",
         "type": "\"string\""
        },
        {
         "metadata": "{}",
         "name": "product_name",
         "type": "\"string\""
        },
        {
         "metadata": "{}",
         "name": "category",
         "type": "\"string\""
        },
        {
         "metadata": "{}",
         "name": "price",
         "type": "\"double\""
        },
        {
         "metadata": "{}",
         "name": "store_name",
         "type": "\"string\""
        },
        {
         "metadata": "{}",
         "name": "location",
         "type": "\"string\""
        },
        {
         "metadata": "{}",
         "name": "total_amount",
         "type": "\"double\""
        }
       ],
       "type": "table"
      }
     },
     "output_type": "display_data"
    }
   ],
   "source": [
    "\n",
    "%sql \n",
    "select * from store_silver_cleaned"
   ]
  },
  {
   "cell_type": "code",
   "execution_count": 0,
   "metadata": {
    "application/vnd.databricks.v1+cell": {
     "cellMetadata": {
      "byteLimit": 2048000,
      "rowLimit": 10000
     },
     "inputWidgets": {},
     "nuid": "d85d84c1-4763-4dd8-8da8-864b106a4627",
     "showTitle": false,
     "tableResultSettingsMap": {},
     "title": ""
    }
   },
   "outputs": [
    {
     "output_type": "display_data",
     "data": {
      "text/html": [
       "<style scoped>\n",
       "  .table-result-container {\n",
       "    max-height: 300px;\n",
       "    overflow: auto;\n",
       "  }\n",
       "  table, th, td {\n",
       "    border: 1px solid black;\n",
       "    border-collapse: collapse;\n",
       "  }\n",
       "  th, td {\n",
       "    padding: 5px;\n",
       "  }\n",
       "  th {\n",
       "    text-align: left;\n",
       "  }\n",
       "</style><div class='table-result-container'><table class='table-result'><thead style='background-color: white'><tr><th>store_id</th><th>product_id</th><th>customer_id</th><th>transaction_id</th><th>quantity</th><th>transaction_date</th><th>first_name</th><th>last_name</th><th>email</th><th>city</th><th>registration_date</th><th>product_name</th><th>category</th><th>price</th><th>store_name</th><th>location</th><th>total_amount</th></tr></thead><tbody><tr><td>5</td><td>7</td><td>101</td><td>28</td><td>3</td><td>2024-11-15</td><td>Ravi</td><td>Yadav</td><td>user101@example.com</td><td>Delhi</td><td>2023-09-14</td><td>Smartwatch</td><td>Electronics</td><td>4999.0</td><td>Mega Plaza</td><td>Chennai</td><td>14997.0</td></tr><tr><td>3</td><td>1</td><td>102</td><td>11</td><td>2</td><td>2024-08-11</td><td>Nina</td><td>Joshi</td><td>user102@example.com</td><td>Mumbai</td><td>2024-01-21</td><td>Wireless Mouse</td><td>Electronics</td><td>799.99</td><td>Tech World Outlet</td><td>Bangalore</td><td>1599.98</td></tr><tr><td>4</td><td>1</td><td>103</td><td>18</td><td>3</td><td>2024-09-05</td><td>Sonal</td><td>Sharma</td><td>user103@example.com</td><td>Bangalore</td><td>2023-07-10</td><td>Wireless Mouse</td><td>Electronics</td><td>799.99</td><td>Downtown Mini Store</td><td>Pune</td><td>2399.9700000000003</td></tr><tr><td>3</td><td>3</td><td>104</td><td>13</td><td>4</td><td>2025-05-04</td><td>Karan</td><td>Patel</td><td>user104@example.com</td><td>Hyderabad</td><td>2024-02-05</td><td>Yoga Mat</td><td>Fitness</td><td>499.0</td><td>Tech World Outlet</td><td>Bangalore</td><td>1996.0</td></tr><tr><td>3</td><td>1</td><td>105</td><td>21</td><td>5</td><td>2024-10-02</td><td>Riya</td><td>Singh</td><td>user105@example.com</td><td>Chennai</td><td>2023-06-28</td><td>Wireless Mouse</td><td>Electronics</td><td>799.99</td><td>Tech World Outlet</td><td>Bangalore</td><td>3999.95</td></tr><tr><td>2</td><td>5</td><td>105</td><td>5</td><td>1</td><td>2025-03-17</td><td>Riya</td><td>Singh</td><td>user105@example.com</td><td>Chennai</td><td>2023-06-28</td><td>Notebook Set</td><td>Stationery</td><td>149.0</td><td>High Street Store</td><td>Delhi</td><td>149.0</td></tr><tr><td>4</td><td>3</td><td>105</td><td>2</td><td>5</td><td>2024-11-12</td><td>Riya</td><td>Singh</td><td>user105@example.com</td><td>Chennai</td><td>2023-06-28</td><td>Yoga Mat</td><td>Fitness</td><td>499.0</td><td>Downtown Mini Store</td><td>Pune</td><td>2495.0</td></tr><tr><td>3</td><td>9</td><td>107</td><td>22</td><td>4</td><td>2024-11-16</td><td>Priya</td><td>Kapoor</td><td>user107@example.com</td><td>Ahmedabad</td><td>2023-05-12</td><td>Dumbbell Set</td><td>Fitness</td><td>1999.0</td><td>Tech World Outlet</td><td>Bangalore</td><td>7996.0</td></tr><tr><td>1</td><td>5</td><td>108</td><td>12</td><td>4</td><td>2025-05-26</td><td>Rahul</td><td>Verma</td><td>user108@example.com</td><td>Kolkata</td><td>2023-08-19</td><td>Notebook Set</td><td>Stationery</td><td>149.0</td><td>City Mall Store</td><td>Mumbai</td><td>596.0</td></tr><tr><td>5</td><td>8</td><td>109</td><td>17</td><td>5</td><td>2024-07-10</td><td>Pooja</td><td>Mehta</td><td>user109@example.com</td><td>Delhi</td><td>2024-04-01</td><td>Desk Organizer</td><td>Accessories</td><td>399.0</td><td>Mega Plaza</td><td>Chennai</td><td>1995.0</td></tr><tr><td>2</td><td>7</td><td>110</td><td>7</td><td>5</td><td>2025-01-01</td><td>Deepak</td><td>Nair</td><td>user110@example.com</td><td>Mumbai</td><td>2023-10-14</td><td>Smartwatch</td><td>Electronics</td><td>4999.0</td><td>High Street Store</td><td>Delhi</td><td>24995.0</td></tr><tr><td>3</td><td>7</td><td>110</td><td>6</td><td>5</td><td>2025-01-04</td><td>Deepak</td><td>Nair</td><td>user110@example.com</td><td>Mumbai</td><td>2023-10-14</td><td>Smartwatch</td><td>Electronics</td><td>4999.0</td><td>Tech World Outlet</td><td>Bangalore</td><td>24995.0</td></tr><tr><td>4</td><td>8</td><td>116</td><td>30</td><td>5</td><td>2025-03-16</td><td>Rakesh</td><td>Kapoor</td><td>user116@example.com</td><td>Kolkata</td><td>2023-06-15</td><td>Desk Organizer</td><td>Accessories</td><td>399.0</td><td>Downtown Mini Store</td><td>Pune</td><td>1995.0</td></tr><tr><td>4</td><td>8</td><td>116</td><td>25</td><td>5</td><td>2024-12-13</td><td>Rakesh</td><td>Kapoor</td><td>user116@example.com</td><td>Kolkata</td><td>2023-06-15</td><td>Desk Organizer</td><td>Accessories</td><td>399.0</td><td>Downtown Mini Store</td><td>Pune</td><td>1995.0</td></tr><tr><td>4</td><td>8</td><td>116</td><td>19</td><td>4</td><td>2024-07-14</td><td>Rakesh</td><td>Kapoor</td><td>user116@example.com</td><td>Kolkata</td><td>2023-06-15</td><td>Desk Organizer</td><td>Accessories</td><td>399.0</td><td>Downtown Mini Store</td><td>Pune</td><td>1596.0</td></tr><tr><td>2</td><td>2</td><td>116</td><td>3</td><td>3</td><td>2025-05-01</td><td>Rakesh</td><td>Kapoor</td><td>user116@example.com</td><td>Kolkata</td><td>2023-06-15</td><td>Bluetooth Speaker</td><td>Electronics</td><td>1299.49</td><td>High Street Store</td><td>Delhi</td><td>3898.4700000000003</td></tr><tr><td>2</td><td>6</td><td>118</td><td>16</td><td>4</td><td>2024-11-29</td><td>Vikram</td><td>Mehta</td><td>user118@example.com</td><td>Mumbai</td><td>2023-04-22</td><td>Water Bottle</td><td>Fitness</td><td>299.0</td><td>High Street Store</td><td>Delhi</td><td>1196.0</td></tr><tr><td>4</td><td>9</td><td>119</td><td>29</td><td>2</td><td>2025-06-03</td><td>Kunal</td><td>Nair</td><td>user119@example.com</td><td>Bangalore</td><td>2023-08-10</td><td>Dumbbell Set</td><td>Fitness</td><td>1999.0</td><td>Downtown Mini Store</td><td>Pune</td><td>3998.0</td></tr><tr><td>4</td><td>1</td><td>120</td><td>14</td><td>5</td><td>2024-07-17</td><td>Alka</td><td>Mishra</td><td>user120@example.com</td><td>Hyderabad</td><td>2023-12-01</td><td>Wireless Mouse</td><td>Electronics</td><td>799.99</td><td>Downtown Mini Store</td><td>Pune</td><td>3999.95</td></tr><tr><td>1</td><td>8</td><td>120</td><td>4</td><td>1</td><td>2024-11-02</td><td>Alka</td><td>Mishra</td><td>user120@example.com</td><td>Hyderabad</td><td>2023-12-01</td><td>Desk Organizer</td><td>Accessories</td><td>399.0</td><td>City Mall Store</td><td>Mumbai</td><td>399.0</td></tr><tr><td>5</td><td>6</td><td>121</td><td>15</td><td>5</td><td>2025-05-19</td><td>Sanjay</td><td>Patel</td><td>user121@example.com</td><td>Chennai</td><td>2024-01-10</td><td>Water Bottle</td><td>Fitness</td><td>299.0</td><td>Mega Plaza</td><td>Chennai</td><td>1495.0</td></tr><tr><td>4</td><td>9</td><td>122</td><td>23</td><td>2</td><td>2025-04-30</td><td>Tina</td><td>Kapoor</td><td>user122@example.com</td><td>Pune</td><td>2023-09-20</td><td>Dumbbell Set</td><td>Fitness</td><td>1999.0</td><td>Downtown Mini Store</td><td>Pune</td><td>3998.0</td></tr><tr><td>3</td><td>1</td><td>123</td><td>9</td><td>2</td><td>2024-10-08</td><td>Arjun</td><td>Yadav</td><td>user123@example.com</td><td>Ahmedabad</td><td>2024-02-25</td><td>Wireless Mouse</td><td>Electronics</td><td>799.99</td><td>Tech World Outlet</td><td>Bangalore</td><td>1599.98</td></tr><tr><td>2</td><td>2</td><td>124</td><td>10</td><td>5</td><td>2024-08-27</td><td>Kavita</td><td>Sharma</td><td>user124@example.com</td><td>Kolkata</td><td>2023-11-15</td><td>Bluetooth Speaker</td><td>Electronics</td><td>1299.49</td><td>High Street Store</td><td>Delhi</td><td>6497.45</td></tr><tr><td>5</td><td>1</td><td>125</td><td>24</td><td>1</td><td>2024-07-14</td><td>Tarun</td><td>Verma</td><td>user125@example.com</td><td>Delhi</td><td>2024-04-05</td><td>Wireless Mouse</td><td>Electronics</td><td>799.99</td><td>Mega Plaza</td><td>Chennai</td><td>799.99</td></tr><tr><td>2</td><td>6</td><td>126</td><td>26</td><td>2</td><td>2024-09-21</td><td>Bhavna</td><td>Nair</td><td>user126@example.com</td><td>Mumbai</td><td>2023-07-17</td><td>Water Bottle</td><td>Fitness</td><td>299.0</td><td>High Street Store</td><td>Delhi</td><td>598.0</td></tr><tr><td>5</td><td>7</td><td>126</td><td>8</td><td>2</td><td>2025-06-08</td><td>Bhavna</td><td>Nair</td><td>user126@example.com</td><td>Mumbai</td><td>2023-07-17</td><td>Smartwatch</td><td>Electronics</td><td>4999.0</td><td>Mega Plaza</td><td>Chennai</td><td>9998.0</td></tr><tr><td>1</td><td>8</td><td>127</td><td>27</td><td>1</td><td>2024-10-10</td><td>Rohit</td><td>Mehta</td><td>user127@example.com</td><td>Bangalore</td><td>2023-08-30</td><td>Desk Organizer</td><td>Accessories</td><td>399.0</td><td>City Mall Store</td><td>Mumbai</td><td>399.0</td></tr><tr><td>4</td><td>8</td><td>127</td><td>1</td><td>4</td><td>2025-03-31</td><td>Rohit</td><td>Mehta</td><td>user127@example.com</td><td>Bangalore</td><td>2023-08-30</td><td>Desk Organizer</td><td>Accessories</td><td>399.0</td><td>Downtown Mini Store</td><td>Pune</td><td>1596.0</td></tr><tr><td>1</td><td>5</td><td>130</td><td>20</td><td>2</td><td>2024-07-30</td><td>Tanvi</td><td>Kapoor</td><td>user130@example.com</td><td>Pune</td><td>2023-12-22</td><td>Notebook Set</td><td>Stationery</td><td>149.0</td><td>City Mall Store</td><td>Mumbai</td><td>298.0</td></tr></tbody></table></div>"
      ]
     },
     "metadata": {
      "application/vnd.databricks.v1+output": {
       "addedWidgets": {},
       "aggData": [],
       "aggError": "",
       "aggOverflow": false,
       "aggSchema": [],
       "aggSeriesLimitReached": false,
       "aggType": "",
       "arguments": {},
       "columnCustomDisplayInfos": {},
       "data": [
        [
         5,
         7,
         101,
         28,
         3,
         "2024-11-15",
         "Ravi",
         "Yadav",
         "user101@example.com",
         "Delhi",
         "2023-09-14",
         "Smartwatch",
         "Electronics",
         4999.0,
         "Mega Plaza",
         "Chennai",
         14997.0
        ],
        [
         3,
         1,
         102,
         11,
         2,
         "2024-08-11",
         "Nina",
         "Joshi",
         "user102@example.com",
         "Mumbai",
         "2024-01-21",
         "Wireless Mouse",
         "Electronics",
         799.99,
         "Tech World Outlet",
         "Bangalore",
         1599.98
        ],
        [
         4,
         1,
         103,
         18,
         3,
         "2024-09-05",
         "Sonal",
         "Sharma",
         "user103@example.com",
         "Bangalore",
         "2023-07-10",
         "Wireless Mouse",
         "Electronics",
         799.99,
         "Downtown Mini Store",
         "Pune",
         2399.9700000000003
        ],
        [
         3,
         3,
         104,
         13,
         4,
         "2025-05-04",
         "Karan",
         "Patel",
         "user104@example.com",
         "Hyderabad",
         "2024-02-05",
         "Yoga Mat",
         "Fitness",
         499.0,
         "Tech World Outlet",
         "Bangalore",
         1996.0
        ],
        [
         3,
         1,
         105,
         21,
         5,
         "2024-10-02",
         "Riya",
         "Singh",
         "user105@example.com",
         "Chennai",
         "2023-06-28",
         "Wireless Mouse",
         "Electronics",
         799.99,
         "Tech World Outlet",
         "Bangalore",
         3999.95
        ],
        [
         2,
         5,
         105,
         5,
         1,
         "2025-03-17",
         "Riya",
         "Singh",
         "user105@example.com",
         "Chennai",
         "2023-06-28",
         "Notebook Set",
         "Stationery",
         149.0,
         "High Street Store",
         "Delhi",
         149.0
        ],
        [
         4,
         3,
         105,
         2,
         5,
         "2024-11-12",
         "Riya",
         "Singh",
         "user105@example.com",
         "Chennai",
         "2023-06-28",
         "Yoga Mat",
         "Fitness",
         499.0,
         "Downtown Mini Store",
         "Pune",
         2495.0
        ],
        [
         3,
         9,
         107,
         22,
         4,
         "2024-11-16",
         "Priya",
         "Kapoor",
         "user107@example.com",
         "Ahmedabad",
         "2023-05-12",
         "Dumbbell Set",
         "Fitness",
         1999.0,
         "Tech World Outlet",
         "Bangalore",
         7996.0
        ],
        [
         1,
         5,
         108,
         12,
         4,
         "2025-05-26",
         "Rahul",
         "Verma",
         "user108@example.com",
         "Kolkata",
         "2023-08-19",
         "Notebook Set",
         "Stationery",
         149.0,
         "City Mall Store",
         "Mumbai",
         596.0
        ],
        [
         5,
         8,
         109,
         17,
         5,
         "2024-07-10",
         "Pooja",
         "Mehta",
         "user109@example.com",
         "Delhi",
         "2024-04-01",
         "Desk Organizer",
         "Accessories",
         399.0,
         "Mega Plaza",
         "Chennai",
         1995.0
        ],
        [
         2,
         7,
         110,
         7,
         5,
         "2025-01-01",
         "Deepak",
         "Nair",
         "user110@example.com",
         "Mumbai",
         "2023-10-14",
         "Smartwatch",
         "Electronics",
         4999.0,
         "High Street Store",
         "Delhi",
         24995.0
        ],
        [
         3,
         7,
         110,
         6,
         5,
         "2025-01-04",
         "Deepak",
         "Nair",
         "user110@example.com",
         "Mumbai",
         "2023-10-14",
         "Smartwatch",
         "Electronics",
         4999.0,
         "Tech World Outlet",
         "Bangalore",
         24995.0
        ],
        [
         4,
         8,
         116,
         30,
         5,
         "2025-03-16",
         "Rakesh",
         "Kapoor",
         "user116@example.com",
         "Kolkata",
         "2023-06-15",
         "Desk Organizer",
         "Accessories",
         399.0,
         "Downtown Mini Store",
         "Pune",
         1995.0
        ],
        [
         4,
         8,
         116,
         25,
         5,
         "2024-12-13",
         "Rakesh",
         "Kapoor",
         "user116@example.com",
         "Kolkata",
         "2023-06-15",
         "Desk Organizer",
         "Accessories",
         399.0,
         "Downtown Mini Store",
         "Pune",
         1995.0
        ],
        [
         4,
         8,
         116,
         19,
         4,
         "2024-07-14",
         "Rakesh",
         "Kapoor",
         "user116@example.com",
         "Kolkata",
         "2023-06-15",
         "Desk Organizer",
         "Accessories",
         399.0,
         "Downtown Mini Store",
         "Pune",
         1596.0
        ],
        [
         2,
         2,
         116,
         3,
         3,
         "2025-05-01",
         "Rakesh",
         "Kapoor",
         "user116@example.com",
         "Kolkata",
         "2023-06-15",
         "Bluetooth Speaker",
         "Electronics",
         1299.49,
         "High Street Store",
         "Delhi",
         3898.4700000000003
        ],
        [
         2,
         6,
         118,
         16,
         4,
         "2024-11-29",
         "Vikram",
         "Mehta",
         "user118@example.com",
         "Mumbai",
         "2023-04-22",
         "Water Bottle",
         "Fitness",
         299.0,
         "High Street Store",
         "Delhi",
         1196.0
        ],
        [
         4,
         9,
         119,
         29,
         2,
         "2025-06-03",
         "Kunal",
         "Nair",
         "user119@example.com",
         "Bangalore",
         "2023-08-10",
         "Dumbbell Set",
         "Fitness",
         1999.0,
         "Downtown Mini Store",
         "Pune",
         3998.0
        ],
        [
         4,
         1,
         120,
         14,
         5,
         "2024-07-17",
         "Alka",
         "Mishra",
         "user120@example.com",
         "Hyderabad",
         "2023-12-01",
         "Wireless Mouse",
         "Electronics",
         799.99,
         "Downtown Mini Store",
         "Pune",
         3999.95
        ],
        [
         1,
         8,
         120,
         4,
         1,
         "2024-11-02",
         "Alka",
         "Mishra",
         "user120@example.com",
         "Hyderabad",
         "2023-12-01",
         "Desk Organizer",
         "Accessories",
         399.0,
         "City Mall Store",
         "Mumbai",
         399.0
        ],
        [
         5,
         6,
         121,
         15,
         5,
         "2025-05-19",
         "Sanjay",
         "Patel",
         "user121@example.com",
         "Chennai",
         "2024-01-10",
         "Water Bottle",
         "Fitness",
         299.0,
         "Mega Plaza",
         "Chennai",
         1495.0
        ],
        [
         4,
         9,
         122,
         23,
         2,
         "2025-04-30",
         "Tina",
         "Kapoor",
         "user122@example.com",
         "Pune",
         "2023-09-20",
         "Dumbbell Set",
         "Fitness",
         1999.0,
         "Downtown Mini Store",
         "Pune",
         3998.0
        ],
        [
         3,
         1,
         123,
         9,
         2,
         "2024-10-08",
         "Arjun",
         "Yadav",
         "user123@example.com",
         "Ahmedabad",
         "2024-02-25",
         "Wireless Mouse",
         "Electronics",
         799.99,
         "Tech World Outlet",
         "Bangalore",
         1599.98
        ],
        [
         2,
         2,
         124,
         10,
         5,
         "2024-08-27",
         "Kavita",
         "Sharma",
         "user124@example.com",
         "Kolkata",
         "2023-11-15",
         "Bluetooth Speaker",
         "Electronics",
         1299.49,
         "High Street Store",
         "Delhi",
         6497.45
        ],
        [
         5,
         1,
         125,
         24,
         1,
         "2024-07-14",
         "Tarun",
         "Verma",
         "user125@example.com",
         "Delhi",
         "2024-04-05",
         "Wireless Mouse",
         "Electronics",
         799.99,
         "Mega Plaza",
         "Chennai",
         799.99
        ],
        [
         2,
         6,
         126,
         26,
         2,
         "2024-09-21",
         "Bhavna",
         "Nair",
         "user126@example.com",
         "Mumbai",
         "2023-07-17",
         "Water Bottle",
         "Fitness",
         299.0,
         "High Street Store",
         "Delhi",
         598.0
        ],
        [
         5,
         7,
         126,
         8,
         2,
         "2025-06-08",
         "Bhavna",
         "Nair",
         "user126@example.com",
         "Mumbai",
         "2023-07-17",
         "Smartwatch",
         "Electronics",
         4999.0,
         "Mega Plaza",
         "Chennai",
         9998.0
        ],
        [
         1,
         8,
         127,
         27,
         1,
         "2024-10-10",
         "Rohit",
         "Mehta",
         "user127@example.com",
         "Bangalore",
         "2023-08-30",
         "Desk Organizer",
         "Accessories",
         399.0,
         "City Mall Store",
         "Mumbai",
         399.0
        ],
        [
         4,
         8,
         127,
         1,
         4,
         "2025-03-31",
         "Rohit",
         "Mehta",
         "user127@example.com",
         "Bangalore",
         "2023-08-30",
         "Desk Organizer",
         "Accessories",
         399.0,
         "Downtown Mini Store",
         "Pune",
         1596.0
        ],
        [
         1,
         5,
         130,
         20,
         2,
         "2024-07-30",
         "Tanvi",
         "Kapoor",
         "user130@example.com",
         "Pune",
         "2023-12-22",
         "Notebook Set",
         "Stationery",
         149.0,
         "City Mall Store",
         "Mumbai",
         298.0
        ]
       ],
       "datasetInfos": [],
       "dbfsResultPath": null,
       "isJsonSchema": true,
       "metadata": {},
       "overflow": false,
       "plotOptions": {
        "customPlotOptions": {},
        "displayType": "table",
        "pivotAggregation": null,
        "pivotColumns": null,
        "xColumns": null,
        "yColumns": null
       },
       "removedWidgets": [],
       "schema": [
        {
         "metadata": "{}",
         "name": "store_id",
         "type": "\"integer\""
        },
        {
         "metadata": "{}",
         "name": "product_id",
         "type": "\"integer\""
        },
        {
         "metadata": "{}",
         "name": "customer_id",
         "type": "\"integer\""
        },
        {
         "metadata": "{}",
         "name": "transaction_id",
         "type": "\"integer\""
        },
        {
         "metadata": "{}",
         "name": "quantity",
         "type": "\"integer\""
        },
        {
         "metadata": "{}",
         "name": "transaction_date",
         "type": "\"date\""
        },
        {
         "metadata": "{}",
         "name": "first_name",
         "type": "\"string\""
        },
        {
         "metadata": "{}",
         "name": "last_name",
         "type": "\"string\""
        },
        {
         "metadata": "{}",
         "name": "email",
         "type": "\"string\""
        },
        {
         "metadata": "{}",
         "name": "city",
         "type": "\"string\""
        },
        {
         "metadata": "{}",
         "name": "registration_date",
         "type": "\"string\""
        },
        {
         "metadata": "{}",
         "name": "product_name",
         "type": "\"string\""
        },
        {
         "metadata": "{}",
         "name": "category",
         "type": "\"string\""
        },
        {
         "metadata": "{}",
         "name": "price",
         "type": "\"double\""
        },
        {
         "metadata": "{}",
         "name": "store_name",
         "type": "\"string\""
        },
        {
         "metadata": "{}",
         "name": "location",
         "type": "\"string\""
        },
        {
         "metadata": "{}",
         "name": "total_amount",
         "type": "\"double\""
        }
       ],
       "type": "table"
      }
     },
     "output_type": "display_data"
    }
   ],
   "source": [
    "\n",
    "# STEP 9: CREATE A NEW DATAFRAME IN PREPARATION FOR THE GOLD LAYER\n",
    "\n",
    "\n",
    "# Load cleaned transactions from Silver layer\n",
    "silver_df = spark.read.format(\"delta\").load(\"/mnt/store_project/silver/\")\n",
    "\n",
    "\n",
    "# VALIDATE THE NEW DATAFRAME\n",
    "\n",
    "display(silver_df)\n",
    "\n"
   ]
  },
  {
   "cell_type": "code",
   "execution_count": 0,
   "metadata": {
    "application/vnd.databricks.v1+cell": {
     "cellMetadata": {
      "byteLimit": 2048000,
      "rowLimit": 10000
     },
     "inputWidgets": {},
     "nuid": "427847ca-5492-420d-a4fb-8d6f3536ca3c",
     "showTitle": false,
     "tableResultSettingsMap": {},
     "title": ""
    }
   },
   "outputs": [
    {
     "output_type": "display_data",
     "data": {
      "text/html": [
       "<style scoped>\n",
       "  .table-result-container {\n",
       "    max-height: 300px;\n",
       "    overflow: auto;\n",
       "  }\n",
       "  table, th, td {\n",
       "    border: 1px solid black;\n",
       "    border-collapse: collapse;\n",
       "  }\n",
       "  th, td {\n",
       "    padding: 5px;\n",
       "  }\n",
       "  th {\n",
       "    text-align: left;\n",
       "  }\n",
       "</style><div class='table-result-container'><table class='table-result'><thead style='background-color: white'><tr><th>transaction_date</th><th>product_id</th><th>product_name</th><th>category</th><th>store_id</th><th>store_name</th><th>location</th><th>total_quantity_sold</th><th>total_sales_amount</th><th>number_of_transactions</th><th>average_transaction_value</th></tr></thead><tbody><tr><td>2024-11-02</td><td>8</td><td>Desk Organizer</td><td>Accessories</td><td>1</td><td>City Mall Store</td><td>Mumbai</td><td>1</td><td>399.0</td><td>1</td><td>399.0</td></tr><tr><td>2024-08-11</td><td>1</td><td>Wireless Mouse</td><td>Electronics</td><td>3</td><td>Tech World Outlet</td><td>Bangalore</td><td>2</td><td>1599.98</td><td>1</td><td>1599.98</td></tr><tr><td>2024-12-13</td><td>8</td><td>Desk Organizer</td><td>Accessories</td><td>4</td><td>Downtown Mini Store</td><td>Pune</td><td>5</td><td>1995.0</td><td>1</td><td>1995.0</td></tr><tr><td>2025-05-04</td><td>3</td><td>Yoga Mat</td><td>Fitness</td><td>3</td><td>Tech World Outlet</td><td>Bangalore</td><td>4</td><td>1996.0</td><td>1</td><td>1996.0</td></tr><tr><td>2025-05-26</td><td>5</td><td>Notebook Set</td><td>Stationery</td><td>1</td><td>City Mall Store</td><td>Mumbai</td><td>4</td><td>596.0</td><td>1</td><td>596.0</td></tr><tr><td>2024-07-14</td><td>1</td><td>Wireless Mouse</td><td>Electronics</td><td>5</td><td>Mega Plaza</td><td>Chennai</td><td>1</td><td>799.99</td><td>1</td><td>799.99</td></tr><tr><td>2024-07-17</td><td>1</td><td>Wireless Mouse</td><td>Electronics</td><td>4</td><td>Downtown Mini Store</td><td>Pune</td><td>5</td><td>3999.95</td><td>1</td><td>3999.95</td></tr><tr><td>2024-09-05</td><td>1</td><td>Wireless Mouse</td><td>Electronics</td><td>4</td><td>Downtown Mini Store</td><td>Pune</td><td>3</td><td>2399.9700000000003</td><td>1</td><td>2399.9700000000003</td></tr><tr><td>2025-06-03</td><td>9</td><td>Dumbbell Set</td><td>Fitness</td><td>4</td><td>Downtown Mini Store</td><td>Pune</td><td>2</td><td>3998.0</td><td>1</td><td>3998.0</td></tr><tr><td>2024-08-27</td><td>2</td><td>Bluetooth Speaker</td><td>Electronics</td><td>2</td><td>High Street Store</td><td>Delhi</td><td>5</td><td>6497.45</td><td>1</td><td>6497.45</td></tr><tr><td>2025-01-01</td><td>7</td><td>Smartwatch</td><td>Electronics</td><td>2</td><td>High Street Store</td><td>Delhi</td><td>5</td><td>24995.0</td><td>1</td><td>24995.0</td></tr><tr><td>2025-05-19</td><td>6</td><td>Water Bottle</td><td>Fitness</td><td>5</td><td>Mega Plaza</td><td>Chennai</td><td>5</td><td>1495.0</td><td>1</td><td>1495.0</td></tr><tr><td>2024-11-12</td><td>3</td><td>Yoga Mat</td><td>Fitness</td><td>4</td><td>Downtown Mini Store</td><td>Pune</td><td>5</td><td>2495.0</td><td>1</td><td>2495.0</td></tr><tr><td>2025-01-04</td><td>7</td><td>Smartwatch</td><td>Electronics</td><td>3</td><td>Tech World Outlet</td><td>Bangalore</td><td>5</td><td>24995.0</td><td>1</td><td>24995.0</td></tr><tr><td>2025-03-16</td><td>8</td><td>Desk Organizer</td><td>Accessories</td><td>4</td><td>Downtown Mini Store</td><td>Pune</td><td>5</td><td>1995.0</td><td>1</td><td>1995.0</td></tr><tr><td>2024-11-15</td><td>7</td><td>Smartwatch</td><td>Electronics</td><td>5</td><td>Mega Plaza</td><td>Chennai</td><td>3</td><td>14997.0</td><td>1</td><td>14997.0</td></tr><tr><td>2024-07-30</td><td>5</td><td>Notebook Set</td><td>Stationery</td><td>1</td><td>City Mall Store</td><td>Mumbai</td><td>2</td><td>298.0</td><td>1</td><td>298.0</td></tr><tr><td>2025-04-30</td><td>9</td><td>Dumbbell Set</td><td>Fitness</td><td>4</td><td>Downtown Mini Store</td><td>Pune</td><td>2</td><td>3998.0</td><td>1</td><td>3998.0</td></tr><tr><td>2024-11-29</td><td>6</td><td>Water Bottle</td><td>Fitness</td><td>2</td><td>High Street Store</td><td>Delhi</td><td>4</td><td>1196.0</td><td>1</td><td>1196.0</td></tr><tr><td>2024-09-21</td><td>6</td><td>Water Bottle</td><td>Fitness</td><td>2</td><td>High Street Store</td><td>Delhi</td><td>2</td><td>598.0</td><td>1</td><td>598.0</td></tr><tr><td>2025-06-08</td><td>7</td><td>Smartwatch</td><td>Electronics</td><td>5</td><td>Mega Plaza</td><td>Chennai</td><td>2</td><td>9998.0</td><td>1</td><td>9998.0</td></tr><tr><td>2024-11-16</td><td>9</td><td>Dumbbell Set</td><td>Fitness</td><td>3</td><td>Tech World Outlet</td><td>Bangalore</td><td>4</td><td>7996.0</td><td>1</td><td>7996.0</td></tr><tr><td>2024-10-02</td><td>1</td><td>Wireless Mouse</td><td>Electronics</td><td>3</td><td>Tech World Outlet</td><td>Bangalore</td><td>5</td><td>3999.95</td><td>1</td><td>3999.95</td></tr><tr><td>2024-10-08</td><td>1</td><td>Wireless Mouse</td><td>Electronics</td><td>3</td><td>Tech World Outlet</td><td>Bangalore</td><td>2</td><td>1599.98</td><td>1</td><td>1599.98</td></tr><tr><td>2025-05-01</td><td>2</td><td>Bluetooth Speaker</td><td>Electronics</td><td>2</td><td>High Street Store</td><td>Delhi</td><td>3</td><td>3898.4700000000003</td><td>1</td><td>3898.4700000000003</td></tr><tr><td>2024-07-14</td><td>8</td><td>Desk Organizer</td><td>Accessories</td><td>4</td><td>Downtown Mini Store</td><td>Pune</td><td>4</td><td>1596.0</td><td>1</td><td>1596.0</td></tr><tr><td>2024-10-10</td><td>8</td><td>Desk Organizer</td><td>Accessories</td><td>1</td><td>City Mall Store</td><td>Mumbai</td><td>1</td><td>399.0</td><td>1</td><td>399.0</td></tr><tr><td>2025-03-17</td><td>5</td><td>Notebook Set</td><td>Stationery</td><td>2</td><td>High Street Store</td><td>Delhi</td><td>1</td><td>149.0</td><td>1</td><td>149.0</td></tr><tr><td>2024-07-10</td><td>8</td><td>Desk Organizer</td><td>Accessories</td><td>5</td><td>Mega Plaza</td><td>Chennai</td><td>5</td><td>1995.0</td><td>1</td><td>1995.0</td></tr><tr><td>2025-03-31</td><td>8</td><td>Desk Organizer</td><td>Accessories</td><td>4</td><td>Downtown Mini Store</td><td>Pune</td><td>4</td><td>1596.0</td><td>1</td><td>1596.0</td></tr></tbody></table></div>"
      ]
     },
     "metadata": {
      "application/vnd.databricks.v1+output": {
       "addedWidgets": {},
       "aggData": [],
       "aggError": "",
       "aggOverflow": false,
       "aggSchema": [],
       "aggSeriesLimitReached": false,
       "aggType": "",
       "arguments": {},
       "columnCustomDisplayInfos": {},
       "data": [
        [
         "2024-11-02",
         8,
         "Desk Organizer",
         "Accessories",
         1,
         "City Mall Store",
         "Mumbai",
         1,
         399.0,
         1,
         399.0
        ],
        [
         "2024-08-11",
         1,
         "Wireless Mouse",
         "Electronics",
         3,
         "Tech World Outlet",
         "Bangalore",
         2,
         1599.98,
         1,
         1599.98
        ],
        [
         "2024-12-13",
         8,
         "Desk Organizer",
         "Accessories",
         4,
         "Downtown Mini Store",
         "Pune",
         5,
         1995.0,
         1,
         1995.0
        ],
        [
         "2025-05-04",
         3,
         "Yoga Mat",
         "Fitness",
         3,
         "Tech World Outlet",
         "Bangalore",
         4,
         1996.0,
         1,
         1996.0
        ],
        [
         "2025-05-26",
         5,
         "Notebook Set",
         "Stationery",
         1,
         "City Mall Store",
         "Mumbai",
         4,
         596.0,
         1,
         596.0
        ],
        [
         "2024-07-14",
         1,
         "Wireless Mouse",
         "Electronics",
         5,
         "Mega Plaza",
         "Chennai",
         1,
         799.99,
         1,
         799.99
        ],
        [
         "2024-07-17",
         1,
         "Wireless Mouse",
         "Electronics",
         4,
         "Downtown Mini Store",
         "Pune",
         5,
         3999.95,
         1,
         3999.95
        ],
        [
         "2024-09-05",
         1,
         "Wireless Mouse",
         "Electronics",
         4,
         "Downtown Mini Store",
         "Pune",
         3,
         2399.9700000000003,
         1,
         2399.9700000000003
        ],
        [
         "2025-06-03",
         9,
         "Dumbbell Set",
         "Fitness",
         4,
         "Downtown Mini Store",
         "Pune",
         2,
         3998.0,
         1,
         3998.0
        ],
        [
         "2024-08-27",
         2,
         "Bluetooth Speaker",
         "Electronics",
         2,
         "High Street Store",
         "Delhi",
         5,
         6497.45,
         1,
         6497.45
        ],
        [
         "2025-01-01",
         7,
         "Smartwatch",
         "Electronics",
         2,
         "High Street Store",
         "Delhi",
         5,
         24995.0,
         1,
         24995.0
        ],
        [
         "2025-05-19",
         6,
         "Water Bottle",
         "Fitness",
         5,
         "Mega Plaza",
         "Chennai",
         5,
         1495.0,
         1,
         1495.0
        ],
        [
         "2024-11-12",
         3,
         "Yoga Mat",
         "Fitness",
         4,
         "Downtown Mini Store",
         "Pune",
         5,
         2495.0,
         1,
         2495.0
        ],
        [
         "2025-01-04",
         7,
         "Smartwatch",
         "Electronics",
         3,
         "Tech World Outlet",
         "Bangalore",
         5,
         24995.0,
         1,
         24995.0
        ],
        [
         "2025-03-16",
         8,
         "Desk Organizer",
         "Accessories",
         4,
         "Downtown Mini Store",
         "Pune",
         5,
         1995.0,
         1,
         1995.0
        ],
        [
         "2024-11-15",
         7,
         "Smartwatch",
         "Electronics",
         5,
         "Mega Plaza",
         "Chennai",
         3,
         14997.0,
         1,
         14997.0
        ],
        [
         "2024-07-30",
         5,
         "Notebook Set",
         "Stationery",
         1,
         "City Mall Store",
         "Mumbai",
         2,
         298.0,
         1,
         298.0
        ],
        [
         "2025-04-30",
         9,
         "Dumbbell Set",
         "Fitness",
         4,
         "Downtown Mini Store",
         "Pune",
         2,
         3998.0,
         1,
         3998.0
        ],
        [
         "2024-11-29",
         6,
         "Water Bottle",
         "Fitness",
         2,
         "High Street Store",
         "Delhi",
         4,
         1196.0,
         1,
         1196.0
        ],
        [
         "2024-09-21",
         6,
         "Water Bottle",
         "Fitness",
         2,
         "High Street Store",
         "Delhi",
         2,
         598.0,
         1,
         598.0
        ],
        [
         "2025-06-08",
         7,
         "Smartwatch",
         "Electronics",
         5,
         "Mega Plaza",
         "Chennai",
         2,
         9998.0,
         1,
         9998.0
        ],
        [
         "2024-11-16",
         9,
         "Dumbbell Set",
         "Fitness",
         3,
         "Tech World Outlet",
         "Bangalore",
         4,
         7996.0,
         1,
         7996.0
        ],
        [
         "2024-10-02",
         1,
         "Wireless Mouse",
         "Electronics",
         3,
         "Tech World Outlet",
         "Bangalore",
         5,
         3999.95,
         1,
         3999.95
        ],
        [
         "2024-10-08",
         1,
         "Wireless Mouse",
         "Electronics",
         3,
         "Tech World Outlet",
         "Bangalore",
         2,
         1599.98,
         1,
         1599.98
        ],
        [
         "2025-05-01",
         2,
         "Bluetooth Speaker",
         "Electronics",
         2,
         "High Street Store",
         "Delhi",
         3,
         3898.4700000000003,
         1,
         3898.4700000000003
        ],
        [
         "2024-07-14",
         8,
         "Desk Organizer",
         "Accessories",
         4,
         "Downtown Mini Store",
         "Pune",
         4,
         1596.0,
         1,
         1596.0
        ],
        [
         "2024-10-10",
         8,
         "Desk Organizer",
         "Accessories",
         1,
         "City Mall Store",
         "Mumbai",
         1,
         399.0,
         1,
         399.0
        ],
        [
         "2025-03-17",
         5,
         "Notebook Set",
         "Stationery",
         2,
         "High Street Store",
         "Delhi",
         1,
         149.0,
         1,
         149.0
        ],
        [
         "2024-07-10",
         8,
         "Desk Organizer",
         "Accessories",
         5,
         "Mega Plaza",
         "Chennai",
         5,
         1995.0,
         1,
         1995.0
        ],
        [
         "2025-03-31",
         8,
         "Desk Organizer",
         "Accessories",
         4,
         "Downtown Mini Store",
         "Pune",
         4,
         1596.0,
         1,
         1596.0
        ]
       ],
       "datasetInfos": [],
       "dbfsResultPath": null,
       "isJsonSchema": true,
       "metadata": {},
       "overflow": false,
       "plotOptions": {
        "customPlotOptions": {},
        "displayType": "table",
        "pivotAggregation": null,
        "pivotColumns": null,
        "xColumns": null,
        "yColumns": null
       },
       "removedWidgets": [],
       "schema": [
        {
         "metadata": "{}",
         "name": "transaction_date",
         "type": "\"date\""
        },
        {
         "metadata": "{}",
         "name": "product_id",
         "type": "\"integer\""
        },
        {
         "metadata": "{}",
         "name": "product_name",
         "type": "\"string\""
        },
        {
         "metadata": "{}",
         "name": "category",
         "type": "\"string\""
        },
        {
         "metadata": "{}",
         "name": "store_id",
         "type": "\"integer\""
        },
        {
         "metadata": "{}",
         "name": "store_name",
         "type": "\"string\""
        },
        {
         "metadata": "{}",
         "name": "location",
         "type": "\"string\""
        },
        {
         "metadata": "{}",
         "name": "total_quantity_sold",
         "type": "\"long\""
        },
        {
         "metadata": "{}",
         "name": "total_sales_amount",
         "type": "\"double\""
        },
        {
         "metadata": "{}",
         "name": "number_of_transactions",
         "type": "\"long\""
        },
        {
         "metadata": "{}",
         "name": "average_transaction_value",
         "type": "\"double\""
        }
       ],
       "type": "table"
      }
     },
     "output_type": "display_data"
    }
   ],
   "source": [
    "# CREATE THE GOLD DATAFRAME BY AGGREEGATING THE SILVER DATAFRAME ACCORDING TO THE REQUIREMENT\n",
    "\n",
    "from pyspark.sql.functions import sum, countDistinct, avg\n",
    "\n",
    "gold_df = silver_df.groupBy(\n",
    "    \"transaction_date\",\n",
    "    \"product_id\", \"product_name\", \"category\",\n",
    "    \"store_id\", \"store_name\", \"location\"\n",
    ").agg(\n",
    "    sum(\"quantity\").alias(\"total_quantity_sold\"),\n",
    "    sum(\"total_amount\").alias(\"total_sales_amount\"),\n",
    "    countDistinct(\"transaction_id\").alias(\"number_of_transactions\"),\n",
    "    avg(\"total_amount\").alias(\"average_transaction_value\")\n",
    ")\n",
    "\n",
    "\n",
    "# VALIDATE THE GOLD DATAFRAME\n",
    "\n",
    "display(gold_df)\n",
    "\n",
    "\n"
   ]
  },
  {
   "cell_type": "code",
   "execution_count": 0,
   "metadata": {
    "application/vnd.databricks.v1+cell": {
     "cellMetadata": {
      "byteLimit": 2048000,
      "rowLimit": 10000
     },
     "inputWidgets": {},
     "nuid": "8e5e886a-7be6-4512-adf1-de402df493f1",
     "showTitle": false,
     "tableResultSettingsMap": {},
     "title": ""
    }
   },
   "outputs": [
    {
     "output_type": "execute_result",
     "data": {
      "text/plain": [
       "True"
      ]
     },
     "execution_count": 148,
     "metadata": {},
     "output_type": "execute_result"
    }
   ],
   "source": [
    "dbutils.fs.mount(\n",
    "source = \"abfss://storeanalytics@mynewstorageacctdb.dfs.core.windows.net/gold\",\n",
    "mount_point = \"/mnt/store_project/gold\",\n",
    "extra_configs = configs)"
   ]
  },
  {
   "cell_type": "code",
   "execution_count": 0,
   "metadata": {
    "application/vnd.databricks.v1+cell": {
     "cellMetadata": {
      "byteLimit": 2048000,
      "rowLimit": 10000
     },
     "inputWidgets": {},
     "nuid": "70b38b5c-7d2c-4870-aa3b-06fcd21a73c0",
     "showTitle": false,
     "tableResultSettingsMap": {},
     "title": ""
    }
   },
   "outputs": [
    {
     "output_type": "execute_result",
     "data": {
      "text/plain": [
       "DataFrame[]"
      ]
     },
     "execution_count": 152,
     "metadata": {},
     "output_type": "execute_result"
    }
   ],
   "source": [
    "gold_path = \"/mnt/store_project/gold/\"\n",
    "\n",
    "gold_df.write.mode(\"overwrite\").format(\"delta\").save(gold_path)\n",
    "\n",
    "\n",
    "# CREATE A DATABRICKS TABLE USING SPARK SQL\n",
    "\n",
    "abfss_path = \"abfss://storeanalytics@mynewstorageacctdb.dfs.core.windows.net/gold/\"\n",
    "# Create silver dataset\n",
    "\n",
    "spark.sql(f\"\"\"\n",
    "CREATE TABLE store_gold_sales_summary\n",
    "USING DELTA\n",
    "LOCATION '{abfss_path}'\n",
    "\"\"\")\n",
    "\n",
    "\n",
    "# VALIDATE THE DATA USING SQL"
   ]
  },
  {
   "cell_type": "code",
   "execution_count": 0,
   "metadata": {
    "application/vnd.databricks.v1+cell": {
     "cellMetadata": {
      "byteLimit": 2048000,
      "implicitDf": true,
      "rowLimit": 10000
     },
     "inputWidgets": {},
     "nuid": "93acb423-8db4-4708-8e4c-c8b14ea3eac3",
     "showTitle": true,
     "tableResultSettingsMap": {},
     "title": "# VALIDATE THE DATA USING SQL"
    }
   },
   "outputs": [
    {
     "output_type": "display_data",
     "data": {
      "text/html": [
       "<style scoped>\n",
       "  .table-result-container {\n",
       "    max-height: 300px;\n",
       "    overflow: auto;\n",
       "  }\n",
       "  table, th, td {\n",
       "    border: 1px solid black;\n",
       "    border-collapse: collapse;\n",
       "  }\n",
       "  th, td {\n",
       "    padding: 5px;\n",
       "  }\n",
       "  th {\n",
       "    text-align: left;\n",
       "  }\n",
       "</style><div class='table-result-container'><table class='table-result'><thead style='background-color: white'><tr><th>transaction_date</th><th>product_id</th><th>product_name</th><th>category</th><th>store_id</th><th>store_name</th><th>location</th><th>total_quantity_sold</th><th>total_sales_amount</th><th>number_of_transactions</th><th>average_transaction_value</th></tr></thead><tbody><tr><td>2024-11-02</td><td>8</td><td>Desk Organizer</td><td>Accessories</td><td>1</td><td>City Mall Store</td><td>Mumbai</td><td>1</td><td>399.0</td><td>1</td><td>399.0</td></tr><tr><td>2024-08-11</td><td>1</td><td>Wireless Mouse</td><td>Electronics</td><td>3</td><td>Tech World Outlet</td><td>Bangalore</td><td>2</td><td>1599.98</td><td>1</td><td>1599.98</td></tr><tr><td>2024-12-13</td><td>8</td><td>Desk Organizer</td><td>Accessories</td><td>4</td><td>Downtown Mini Store</td><td>Pune</td><td>5</td><td>1995.0</td><td>1</td><td>1995.0</td></tr><tr><td>2025-05-04</td><td>3</td><td>Yoga Mat</td><td>Fitness</td><td>3</td><td>Tech World Outlet</td><td>Bangalore</td><td>4</td><td>1996.0</td><td>1</td><td>1996.0</td></tr><tr><td>2025-05-26</td><td>5</td><td>Notebook Set</td><td>Stationery</td><td>1</td><td>City Mall Store</td><td>Mumbai</td><td>4</td><td>596.0</td><td>1</td><td>596.0</td></tr><tr><td>2024-07-14</td><td>1</td><td>Wireless Mouse</td><td>Electronics</td><td>5</td><td>Mega Plaza</td><td>Chennai</td><td>1</td><td>799.99</td><td>1</td><td>799.99</td></tr><tr><td>2024-07-17</td><td>1</td><td>Wireless Mouse</td><td>Electronics</td><td>4</td><td>Downtown Mini Store</td><td>Pune</td><td>5</td><td>3999.95</td><td>1</td><td>3999.95</td></tr><tr><td>2024-09-05</td><td>1</td><td>Wireless Mouse</td><td>Electronics</td><td>4</td><td>Downtown Mini Store</td><td>Pune</td><td>3</td><td>2399.9700000000003</td><td>1</td><td>2399.9700000000003</td></tr><tr><td>2025-06-03</td><td>9</td><td>Dumbbell Set</td><td>Fitness</td><td>4</td><td>Downtown Mini Store</td><td>Pune</td><td>2</td><td>3998.0</td><td>1</td><td>3998.0</td></tr><tr><td>2024-08-27</td><td>2</td><td>Bluetooth Speaker</td><td>Electronics</td><td>2</td><td>High Street Store</td><td>Delhi</td><td>5</td><td>6497.45</td><td>1</td><td>6497.45</td></tr><tr><td>2025-01-01</td><td>7</td><td>Smartwatch</td><td>Electronics</td><td>2</td><td>High Street Store</td><td>Delhi</td><td>5</td><td>24995.0</td><td>1</td><td>24995.0</td></tr><tr><td>2025-05-19</td><td>6</td><td>Water Bottle</td><td>Fitness</td><td>5</td><td>Mega Plaza</td><td>Chennai</td><td>5</td><td>1495.0</td><td>1</td><td>1495.0</td></tr><tr><td>2024-11-12</td><td>3</td><td>Yoga Mat</td><td>Fitness</td><td>4</td><td>Downtown Mini Store</td><td>Pune</td><td>5</td><td>2495.0</td><td>1</td><td>2495.0</td></tr><tr><td>2025-01-04</td><td>7</td><td>Smartwatch</td><td>Electronics</td><td>3</td><td>Tech World Outlet</td><td>Bangalore</td><td>5</td><td>24995.0</td><td>1</td><td>24995.0</td></tr><tr><td>2025-03-16</td><td>8</td><td>Desk Organizer</td><td>Accessories</td><td>4</td><td>Downtown Mini Store</td><td>Pune</td><td>5</td><td>1995.0</td><td>1</td><td>1995.0</td></tr><tr><td>2024-11-15</td><td>7</td><td>Smartwatch</td><td>Electronics</td><td>5</td><td>Mega Plaza</td><td>Chennai</td><td>3</td><td>14997.0</td><td>1</td><td>14997.0</td></tr><tr><td>2024-07-30</td><td>5</td><td>Notebook Set</td><td>Stationery</td><td>1</td><td>City Mall Store</td><td>Mumbai</td><td>2</td><td>298.0</td><td>1</td><td>298.0</td></tr><tr><td>2025-04-30</td><td>9</td><td>Dumbbell Set</td><td>Fitness</td><td>4</td><td>Downtown Mini Store</td><td>Pune</td><td>2</td><td>3998.0</td><td>1</td><td>3998.0</td></tr><tr><td>2024-11-29</td><td>6</td><td>Water Bottle</td><td>Fitness</td><td>2</td><td>High Street Store</td><td>Delhi</td><td>4</td><td>1196.0</td><td>1</td><td>1196.0</td></tr><tr><td>2024-09-21</td><td>6</td><td>Water Bottle</td><td>Fitness</td><td>2</td><td>High Street Store</td><td>Delhi</td><td>2</td><td>598.0</td><td>1</td><td>598.0</td></tr><tr><td>2025-06-08</td><td>7</td><td>Smartwatch</td><td>Electronics</td><td>5</td><td>Mega Plaza</td><td>Chennai</td><td>2</td><td>9998.0</td><td>1</td><td>9998.0</td></tr><tr><td>2024-11-16</td><td>9</td><td>Dumbbell Set</td><td>Fitness</td><td>3</td><td>Tech World Outlet</td><td>Bangalore</td><td>4</td><td>7996.0</td><td>1</td><td>7996.0</td></tr><tr><td>2024-10-02</td><td>1</td><td>Wireless Mouse</td><td>Electronics</td><td>3</td><td>Tech World Outlet</td><td>Bangalore</td><td>5</td><td>3999.95</td><td>1</td><td>3999.95</td></tr><tr><td>2024-10-08</td><td>1</td><td>Wireless Mouse</td><td>Electronics</td><td>3</td><td>Tech World Outlet</td><td>Bangalore</td><td>2</td><td>1599.98</td><td>1</td><td>1599.98</td></tr><tr><td>2025-05-01</td><td>2</td><td>Bluetooth Speaker</td><td>Electronics</td><td>2</td><td>High Street Store</td><td>Delhi</td><td>3</td><td>3898.4700000000003</td><td>1</td><td>3898.4700000000003</td></tr><tr><td>2024-07-14</td><td>8</td><td>Desk Organizer</td><td>Accessories</td><td>4</td><td>Downtown Mini Store</td><td>Pune</td><td>4</td><td>1596.0</td><td>1</td><td>1596.0</td></tr><tr><td>2024-10-10</td><td>8</td><td>Desk Organizer</td><td>Accessories</td><td>1</td><td>City Mall Store</td><td>Mumbai</td><td>1</td><td>399.0</td><td>1</td><td>399.0</td></tr><tr><td>2025-03-17</td><td>5</td><td>Notebook Set</td><td>Stationery</td><td>2</td><td>High Street Store</td><td>Delhi</td><td>1</td><td>149.0</td><td>1</td><td>149.0</td></tr><tr><td>2024-07-10</td><td>8</td><td>Desk Organizer</td><td>Accessories</td><td>5</td><td>Mega Plaza</td><td>Chennai</td><td>5</td><td>1995.0</td><td>1</td><td>1995.0</td></tr><tr><td>2025-03-31</td><td>8</td><td>Desk Organizer</td><td>Accessories</td><td>4</td><td>Downtown Mini Store</td><td>Pune</td><td>4</td><td>1596.0</td><td>1</td><td>1596.0</td></tr></tbody></table></div>"
      ]
     },
     "metadata": {
      "application/vnd.databricks.v1+output": {
       "addedWidgets": {},
       "aggData": [],
       "aggError": "",
       "aggOverflow": false,
       "aggSchema": [],
       "aggSeriesLimitReached": false,
       "aggType": "",
       "arguments": {},
       "columnCustomDisplayInfos": {},
       "data": [
        [
         "2024-11-02",
         8,
         "Desk Organizer",
         "Accessories",
         1,
         "City Mall Store",
         "Mumbai",
         1,
         399.0,
         1,
         399.0
        ],
        [
         "2024-08-11",
         1,
         "Wireless Mouse",
         "Electronics",
         3,
         "Tech World Outlet",
         "Bangalore",
         2,
         1599.98,
         1,
         1599.98
        ],
        [
         "2024-12-13",
         8,
         "Desk Organizer",
         "Accessories",
         4,
         "Downtown Mini Store",
         "Pune",
         5,
         1995.0,
         1,
         1995.0
        ],
        [
         "2025-05-04",
         3,
         "Yoga Mat",
         "Fitness",
         3,
         "Tech World Outlet",
         "Bangalore",
         4,
         1996.0,
         1,
         1996.0
        ],
        [
         "2025-05-26",
         5,
         "Notebook Set",
         "Stationery",
         1,
         "City Mall Store",
         "Mumbai",
         4,
         596.0,
         1,
         596.0
        ],
        [
         "2024-07-14",
         1,
         "Wireless Mouse",
         "Electronics",
         5,
         "Mega Plaza",
         "Chennai",
         1,
         799.99,
         1,
         799.99
        ],
        [
         "2024-07-17",
         1,
         "Wireless Mouse",
         "Electronics",
         4,
         "Downtown Mini Store",
         "Pune",
         5,
         3999.95,
         1,
         3999.95
        ],
        [
         "2024-09-05",
         1,
         "Wireless Mouse",
         "Electronics",
         4,
         "Downtown Mini Store",
         "Pune",
         3,
         2399.9700000000003,
         1,
         2399.9700000000003
        ],
        [
         "2025-06-03",
         9,
         "Dumbbell Set",
         "Fitness",
         4,
         "Downtown Mini Store",
         "Pune",
         2,
         3998.0,
         1,
         3998.0
        ],
        [
         "2024-08-27",
         2,
         "Bluetooth Speaker",
         "Electronics",
         2,
         "High Street Store",
         "Delhi",
         5,
         6497.45,
         1,
         6497.45
        ],
        [
         "2025-01-01",
         7,
         "Smartwatch",
         "Electronics",
         2,
         "High Street Store",
         "Delhi",
         5,
         24995.0,
         1,
         24995.0
        ],
        [
         "2025-05-19",
         6,
         "Water Bottle",
         "Fitness",
         5,
         "Mega Plaza",
         "Chennai",
         5,
         1495.0,
         1,
         1495.0
        ],
        [
         "2024-11-12",
         3,
         "Yoga Mat",
         "Fitness",
         4,
         "Downtown Mini Store",
         "Pune",
         5,
         2495.0,
         1,
         2495.0
        ],
        [
         "2025-01-04",
         7,
         "Smartwatch",
         "Electronics",
         3,
         "Tech World Outlet",
         "Bangalore",
         5,
         24995.0,
         1,
         24995.0
        ],
        [
         "2025-03-16",
         8,
         "Desk Organizer",
         "Accessories",
         4,
         "Downtown Mini Store",
         "Pune",
         5,
         1995.0,
         1,
         1995.0
        ],
        [
         "2024-11-15",
         7,
         "Smartwatch",
         "Electronics",
         5,
         "Mega Plaza",
         "Chennai",
         3,
         14997.0,
         1,
         14997.0
        ],
        [
         "2024-07-30",
         5,
         "Notebook Set",
         "Stationery",
         1,
         "City Mall Store",
         "Mumbai",
         2,
         298.0,
         1,
         298.0
        ],
        [
         "2025-04-30",
         9,
         "Dumbbell Set",
         "Fitness",
         4,
         "Downtown Mini Store",
         "Pune",
         2,
         3998.0,
         1,
         3998.0
        ],
        [
         "2024-11-29",
         6,
         "Water Bottle",
         "Fitness",
         2,
         "High Street Store",
         "Delhi",
         4,
         1196.0,
         1,
         1196.0
        ],
        [
         "2024-09-21",
         6,
         "Water Bottle",
         "Fitness",
         2,
         "High Street Store",
         "Delhi",
         2,
         598.0,
         1,
         598.0
        ],
        [
         "2025-06-08",
         7,
         "Smartwatch",
         "Electronics",
         5,
         "Mega Plaza",
         "Chennai",
         2,
         9998.0,
         1,
         9998.0
        ],
        [
         "2024-11-16",
         9,
         "Dumbbell Set",
         "Fitness",
         3,
         "Tech World Outlet",
         "Bangalore",
         4,
         7996.0,
         1,
         7996.0
        ],
        [
         "2024-10-02",
         1,
         "Wireless Mouse",
         "Electronics",
         3,
         "Tech World Outlet",
         "Bangalore",
         5,
         3999.95,
         1,
         3999.95
        ],
        [
         "2024-10-08",
         1,
         "Wireless Mouse",
         "Electronics",
         3,
         "Tech World Outlet",
         "Bangalore",
         2,
         1599.98,
         1,
         1599.98
        ],
        [
         "2025-05-01",
         2,
         "Bluetooth Speaker",
         "Electronics",
         2,
         "High Street Store",
         "Delhi",
         3,
         3898.4700000000003,
         1,
         3898.4700000000003
        ],
        [
         "2024-07-14",
         8,
         "Desk Organizer",
         "Accessories",
         4,
         "Downtown Mini Store",
         "Pune",
         4,
         1596.0,
         1,
         1596.0
        ],
        [
         "2024-10-10",
         8,
         "Desk Organizer",
         "Accessories",
         1,
         "City Mall Store",
         "Mumbai",
         1,
         399.0,
         1,
         399.0
        ],
        [
         "2025-03-17",
         5,
         "Notebook Set",
         "Stationery",
         2,
         "High Street Store",
         "Delhi",
         1,
         149.0,
         1,
         149.0
        ],
        [
         "2024-07-10",
         8,
         "Desk Organizer",
         "Accessories",
         5,
         "Mega Plaza",
         "Chennai",
         5,
         1995.0,
         1,
         1995.0
        ],
        [
         "2025-03-31",
         8,
         "Desk Organizer",
         "Accessories",
         4,
         "Downtown Mini Store",
         "Pune",
         4,
         1596.0,
         1,
         1596.0
        ]
       ],
       "datasetInfos": [
        {
         "name": "_sqldf",
         "schema": {
          "fields": [
           {
            "metadata": {},
            "name": "transaction_date",
            "nullable": true,
            "type": "date"
           },
           {
            "metadata": {},
            "name": "product_id",
            "nullable": true,
            "type": "integer"
           },
           {
            "metadata": {},
            "name": "product_name",
            "nullable": true,
            "type": "string"
           },
           {
            "metadata": {},
            "name": "category",
            "nullable": true,
            "type": "string"
           },
           {
            "metadata": {},
            "name": "store_id",
            "nullable": true,
            "type": "integer"
           },
           {
            "metadata": {},
            "name": "store_name",
            "nullable": true,
            "type": "string"
           },
           {
            "metadata": {},
            "name": "location",
            "nullable": true,
            "type": "string"
           },
           {
            "metadata": {},
            "name": "total_quantity_sold",
            "nullable": true,
            "type": "long"
           },
           {
            "metadata": {},
            "name": "total_sales_amount",
            "nullable": true,
            "type": "double"
           },
           {
            "metadata": {},
            "name": "number_of_transactions",
            "nullable": true,
            "type": "long"
           },
           {
            "metadata": {},
            "name": "average_transaction_value",
            "nullable": true,
            "type": "double"
           }
          ],
          "type": "struct"
         },
         "tableIdentifier": null,
         "typeStr": "pyspark.sql.dataframe.DataFrame"
        }
       ],
       "dbfsResultPath": null,
       "isJsonSchema": true,
       "metadata": {
        "createTempViewForImplicitDf": true,
        "dataframeName": "_sqldf",
        "executionCount": 155
       },
       "overflow": false,
       "plotOptions": {
        "customPlotOptions": {},
        "displayType": "table",
        "pivotAggregation": null,
        "pivotColumns": null,
        "xColumns": null,
        "yColumns": null
       },
       "removedWidgets": [],
       "schema": [
        {
         "metadata": "{}",
         "name": "transaction_date",
         "type": "\"date\""
        },
        {
         "metadata": "{}",
         "name": "product_id",
         "type": "\"integer\""
        },
        {
         "metadata": "{}",
         "name": "product_name",
         "type": "\"string\""
        },
        {
         "metadata": "{}",
         "name": "category",
         "type": "\"string\""
        },
        {
         "metadata": "{}",
         "name": "store_id",
         "type": "\"integer\""
        },
        {
         "metadata": "{}",
         "name": "store_name",
         "type": "\"string\""
        },
        {
         "metadata": "{}",
         "name": "location",
         "type": "\"string\""
        },
        {
         "metadata": "{}",
         "name": "total_quantity_sold",
         "type": "\"long\""
        },
        {
         "metadata": "{}",
         "name": "total_sales_amount",
         "type": "\"double\""
        },
        {
         "metadata": "{}",
         "name": "number_of_transactions",
         "type": "\"long\""
        },
        {
         "metadata": "{}",
         "name": "average_transaction_value",
         "type": "\"double\""
        }
       ],
       "type": "table"
      }
     },
     "output_type": "display_data"
    }
   ],
   "source": [
    "%sql\n",
    "select * from store_gold_sales_summary"
   ]
  },
  {
   "cell_type": "code",
   "execution_count": 0,
   "metadata": {
    "application/vnd.databricks.v1+cell": {
     "cellMetadata": {
      "byteLimit": 2048000,
      "implicitDf": true,
      "rowLimit": 10000
     },
     "inputWidgets": {},
     "nuid": "f5de5851-ff59-43b5-a7a2-e83a08bb6e72",
     "showTitle": false,
     "tableResultSettingsMap": {},
     "title": ""
    }
   },
   "outputs": [
    {
     "output_type": "display_data",
     "data": {
      "text/html": [
       "<style scoped>\n",
       "  .table-result-container {\n",
       "    max-height: 300px;\n",
       "    overflow: auto;\n",
       "  }\n",
       "  table, th, td {\n",
       "    border: 1px solid black;\n",
       "    border-collapse: collapse;\n",
       "  }\n",
       "  th, td {\n",
       "    padding: 5px;\n",
       "  }\n",
       "  th {\n",
       "    text-align: left;\n",
       "  }\n",
       "</style><div class='table-result-container'><table class='table-result'><thead style='background-color: white'><tr><th>current_metastore()</th></tr></thead><tbody><tr><td>azure:eastus:fd21b246-ed71-4938-ac07-096cd3ed0ba2</td></tr></tbody></table></div>"
      ]
     },
     "metadata": {
      "application/vnd.databricks.v1+output": {
       "addedWidgets": {},
       "aggData": [],
       "aggError": "",
       "aggOverflow": false,
       "aggSchema": [],
       "aggSeriesLimitReached": false,
       "aggType": "",
       "arguments": {},
       "columnCustomDisplayInfos": {},
       "data": [
        [
         "azure:eastus:fd21b246-ed71-4938-ac07-096cd3ed0ba2"
        ]
       ],
       "datasetInfos": [
        {
         "name": "_sqldf",
         "schema": {
          "fields": [
           {
            "metadata": {
             "__autoGeneratedAlias": "true"
            },
            "name": "current_metastore()",
            "nullable": false,
            "type": "string"
           }
          ],
          "type": "struct"
         },
         "tableIdentifier": null,
         "typeStr": "pyspark.sql.dataframe.DataFrame"
        }
       ],
       "dbfsResultPath": null,
       "isJsonSchema": true,
       "metadata": {
        "createTempViewForImplicitDf": true,
        "dataframeName": "_sqldf",
        "executionCount": 156
       },
       "overflow": false,
       "plotOptions": {
        "customPlotOptions": {},
        "displayType": "table",
        "pivotAggregation": null,
        "pivotColumns": null,
        "xColumns": null,
        "yColumns": null
       },
       "removedWidgets": [],
       "schema": [
        {
         "metadata": "{\"__autoGeneratedAlias\":\"true\"}",
         "name": "current_metastore()",
         "type": "\"string\""
        }
       ],
       "type": "table"
      }
     },
     "output_type": "display_data"
    }
   ],
   "source": [
    "%sql\n",
    "SELECT CURRENT_METASTORE();"
   ]
  }
 ],
 "metadata": {
  "application/vnd.databricks.v1+notebook": {
   "computePreferences": null,
   "dashboards": [],
   "environmentMetadata": {
    "base_environment": "",
    "environment_version": "3"
   },
   "inputWidgetPreferences": null,
   "language": "python",
   "notebookMetadata": {
    "mostRecentlyExecutedCommandWithImplicitDF": {
     "commandId": 4973655059594544,
     "dataframes": [
      "_sqldf"
     ]
    },
    "pythonIndentUnit": 4
   },
   "notebookName": "Store Analytics Project",
   "widgets": {}
  },
  "language_info": {
   "name": "python"
  }
 },
 "nbformat": 4,
 "nbformat_minor": 0
}